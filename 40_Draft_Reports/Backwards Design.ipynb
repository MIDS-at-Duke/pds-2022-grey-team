{
 "cells": [
  {
   "cell_type": "markdown",
   "metadata": {},
   "source": [
    "# Backwards Design\n",
    "Submitted by Grey Team (Jiaxin Ying, Nick Carroll, Emmanuel Ruhamyankaka, Song Young Oh)"
   ]
  },
  {
   "cell_type": "markdown",
   "metadata": {},
   "source": [
    "## 1. Topic"
   ]
  },
  {
   "cell_type": "markdown",
   "metadata": {},
   "source": [
    "This analysis aims to examine the effectiveness of policy interventions meant to reduce the over-prescription of opioids. To be specific, a pre-post and a difference-in-difference analysis for the policy changes in three states, namely Florida, Texas, and Washington, will be performed to evaluate their impact on opioid prescriptions and overdose deaths. Given that opioid control policies may inhere in a negative aspect that already addicted people turn to illegally purchasing similar types of drugs such as heroin or fentanyl, those regulations have a potential to create more problems related with overdose deaths because drug users cannot gauge the potency of these illegal substances, which makes overdosing much more likely compared to (monitored) prescribed medications."
   ]
  },
  {
   "cell_type": "markdown",
   "metadata": {},
   "source": [
    "## 2. Project Question"
   ]
  },
  {
   "cell_type": "markdown",
   "metadata": {},
   "source": [
    "The project will be implemented to try to answer the following two research questions:\n",
    "\n",
    "(1) For the Florida and Washington: What is the effect of policy change on both opioid shipments and overdose deaths from 2003-2015?\n",
    "\n",
    "(2) For Texas: What is the effect of policy change on overdose opioid deaths from 2003-2015?"
   ]
  },
  {
   "cell_type": "markdown",
   "metadata": {},
   "source": [
    "## 3. Project Hypothesis"
   ]
  },
  {
   "cell_type": "markdown",
   "metadata": {},
   "source": [
    "The project hypothesis is that per capita opioid prescriptions and overdose deaths decrease more in the areas where regulations were executed compared to jurisdictions where no new policies were placed. As there is a possibility that some counties in states with policy change may already have a downward trend of opioid prescriptions and overdose deaths in the pre-policy change period for many reasons, both pre-post and difference-in-difference analysis will be needed."
   ]
  },
  {
   "cell_type": "markdown",
   "metadata": {},
   "source": [
    "## 4. Model Results"
   ]
  },
  {
   "cell_type": "markdown",
   "metadata": {},
   "source": [
    "The pre- and post-analysis will examine how each state has changed over time. If the policy had no impact, our plot would depict overdose deaths and opioid shipments increasing over time; however, if the policy had an impact, our plot would depict 'less' opioid prescription volume and 'less' drug overdose deaths decreasing over time because the policies were intended to reduce drug prescription/use.\n"
   ]
  },
  {
   "cell_type": "markdown",
   "metadata": {},
   "source": [
    "## 5. Final Variables Required"
   ]
  },
  {
   "cell_type": "markdown",
   "metadata": {},
   "source": [
    "What data do we need to generate that answer? We need to define both the variable we need and the population for which we need the variables to be defined."
   ]
  },
  {
   "cell_type": "markdown",
   "metadata": {},
   "source": [
    "## 6. Data Sources"
   ]
  },
  {
   "cell_type": "markdown",
   "metadata": {},
   "source": [
    "What actual data sources do we think will have the data we need?"
   ]
  }
 ],
 "metadata": {
  "kernelspec": {
   "display_name": "Python 3.10.6 ('base')",
   "language": "python",
   "name": "python3"
  },
  "language_info": {
   "name": "python",
   "version": "3.10.6"
  },
  "orig_nbformat": 4,
  "vscode": {
   "interpreter": {
    "hash": "fa76b0bbdd7ca291021a44ebbbaefeafc14a60a898b710cd65579dc29361b82f"
   }
  }
 },
 "nbformat": 4,
 "nbformat_minor": 2
}
