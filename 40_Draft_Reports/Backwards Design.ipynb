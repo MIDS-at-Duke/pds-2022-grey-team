{
    "cells": [
        {
            "cell_type": "markdown",
            "metadata": {},
            "source": [
                "# Backwards Design\n",
                "Submitted by Grey Team (Jiaxin Ying, Nick Carroll, Emmanuel Ruhamyankaka, Song Young Oh)"
            ]
        },
        {
            "cell_type": "markdown",
            "metadata": {},
            "source": [
                "## 1. Topic"
            ]
        },
        {
            "cell_type": "markdown",
            "metadata": {},
            "source": [
                "This analysis aims to examine the effectiveness of policy interventions meant to reduce the opioid abuse. Specifically, Florida, Texas, and Washington each implemented policies with this intent in the early 2000's (2010, 2007, and 2012 respectively). To understand the impact of these policies, this analysis will compare the amount of opioids prescribed and the amount of drug overdose deaths to their respective quanities, both before and after the policies took place in their respective jurisdictions.  Each jurisdiction will be compared to the quantities in the remainder of the nation where no policies are in place.  While the intent of regulations is meant to reduce opioid abuse, regulations increase the ability of addicts to access opioids legally, and may have unexpected effects."
            ]
        },
        {
            "cell_type": "markdown",
            "metadata": {},
            "source": [
                "## 2. Project Question"
            ]
        },
        {
            "cell_type": "markdown",
            "metadata": {},
            "source": [
                "The project will be implemented to try to answer the following two research questions:\n",
                "\n",
                "(1) For the Florida and Washington: What is the effect of policy change on both opioid shipments and overdose deaths from 2003-2015?\n",
                "\n",
                "(2) For Texas: What is the effect of policy change on overdose opioid deaths from 2003-2015?"
            ]
        },
        {
            "cell_type": "markdown",
            "metadata": {},
            "source": [
                "## 3. Project Hypothesis"
            ]
        },
        {
            "cell_type": "markdown",
            "metadata": {},
            "source": [
                "The project hypothesis is that the average annual percent change in per capita opioid quantities sold and overdose deaths is lower in the states where regulations were implemented when compared against jurisdictions where no new policies were implemented. To analyze this change, both a \"Pre-Post Comparison\" and \"Difference-in-Difference Comparison\" analysis will be utilized."
            ]
        },
        {
            "cell_type": "markdown",
            "metadata": {},
            "source": [
                "## 4. Model Results"
            ]
        },
        {
            "cell_type": "markdown",
            "metadata": {},
            "source": [
                "To analyze the validity of the hypothesis, it is expected that the hypothesis is reasonable if two comparisons are true.  First, the average annual percent change in per capita opioid quanities sold and overdose deaths should be substantially less after the policies were placed than before the polices for each jurisdiction.  Furthermore, it is expected that the average annual percent change in each per capita quantity is trending down over time after the policy is implemented.  Second, the average annual percent change in each of the per capita opioid quantities should be substantailly less in jurisdictions where the policy was implemented compared to jurisdictions where the policy was not implemented.  Again, annual percent change should be trending lower in the jurisdictions where policies were implemented compared to jurisdictions where the policy was not implemented."
            ]
        },
        {
            "cell_type": "markdown",
            "metadata": {},
            "source": [
                "The hypothesis will be rejected if the average annual percent change in per capita opioid quanties sold are similar to or greater than the associated quantities after the policies were implemented, or the average annual percent change in per capita quantities is greater than or comparable to the associated quanities in jurisdicitons where no policies were implemented."
            ]
        },
        {
 "cells": [
  {
   "cell_type": "markdown",
   "metadata": {},
   "source": [
    "## 5. What variables will I need in this data? "
   ]
  },
  {
   "cell_type": "markdown",
   "metadata": {},
   "source": [
    "#### For population data, we need to use: \n",
    "#### •\tSTNAME (state)\n",
    "#### •\tCTYNAME (county)\n",
    "#### •\tPOPESTIMATE2003, POPESTIMATE2004, POPESTIMATE2005, POPESTIMATE2006, POPESTIMATE2007, POPESTIMATE2008, POPESTIMATE2009, CENSUS2010POP, POPESTIMATE2011, POPESTIMATE2012, POPESTIMATE2013, POPESTIMATE2014, POPESTIMATE2015 (population)\n",
    "\n",
    "#### For the Washington Post Opioid data, we need to use:\n",
    "#### •\tBUYER_STATE\n",
    "#### •\tBUYER_COUNTY\n",
    "#### •\tTRANSACTION_DATE\n",
    "#### •\tCALC_BASE_WT_IN_GM (DEA added field indicating the total active weight of the drug in the transaction, in grams.) \n",
    "\n",
    "#### For the US Vital Statistics data, we need to use:\n",
    "#### •\tCounty\n",
    "#### •\tYear\n",
    "#### •\tDrug Induced Cause Code (specifically figuring our which code is for opioids)\n",
    "#### •\tDeaths\n"
   ]
  },
  {
   "cell_type": "markdown",
   "metadata": {},
   "source": [
    "## 6. What sample (what years, what counties, etc.) needs to be covered in this data? "
   ]
  },
  {
   "cell_type": "markdown",
   "metadata": {},
   "source": [
    "#### • Population estimated from 2003 to 2015\n",
    "#### • Years from 2003 to 2015\n",
    "#### • All counties from 49 states (no AK) and Washington D.C.in the United States\n",
    "#### • Total active weight of the drug in the transaction from 2003 to 2015\n"
   ]
  },
  {
   "cell_type": "markdown",
   "metadata": {},
   "source": [
    "### What should a single row of this data look like (i.e. what’s a unit of observation?) "
   ]
  },
  {
   "cell_type": "markdown",
   "metadata": {},
   "source": [
    "#### • Year \n",
    "#### • state \n",
    "#### • county\n",
    "#### • county total population\n",
    "#### • state total population \n",
    "#### • drug weight county\n",
    "#### • drug weight state\n",
    "#### • overdoes death county\n",
    "#### • overdoes death state\n"
   ]
  }
 ],
 "metadata": {
  "language_info": {
   "name": "python"
  },
  "orig_nbformat": 4
 },
 "nbformat": 4,
 "nbformat_minor": 2
}

        {
            "cell_type": "markdown",
            "metadata": {},
            "source": [
                "## 7. Final Variables Required"
            ]
        },
        {
            "cell_type": "markdown",
            "metadata": {},
            "source": [
                "We need to define both the variable we need and the population for which we need the variables to be defined."
            ]
        },
        {
            "cell_type": "markdown",
            "metadata": {},
            "source": [
                "## 8. Data Sources"
            ]
        },
        {
            "cell_type": "markdown",
            "metadata": {},
            "source": [
                "We need to use the US Vital Statistics data, the Washington Post Opioid data, and the US Annual Estimates of Resident Population data."
            ]
        }
    ],
    "metadata": {
        "kernelspec": {
            "display_name": "Python 3.10.6 ('base')",
            "language": "python",
            "name": "python3"
        },
        "language_info": {
            "name": "python",
            "version": "3.10.6"
        },
        "orig_nbformat": 4,
        "vscode": {
            "interpreter": {
                "hash": "fa76b0bbdd7ca291021a44ebbbaefeafc14a60a898b710cd65579dc29361b82f"
            }
        }
    },
    "nbformat": 4,
    "nbformat_minor": 2
}
