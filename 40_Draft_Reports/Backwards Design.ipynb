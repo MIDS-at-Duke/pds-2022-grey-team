{
 "cells": [
  {
   "cell_type": "markdown",
   "metadata": {},
   "source": [
    "# Backwards Design\n",
    "Submitted by Grey Team (Jiaxin Ying, Nick Carroll, Emmanuel Ruhamyankaka, Song Young Oh)"
   ]
  },
  {
   "cell_type": "markdown",
   "metadata": {},
   "source": [
    "## 1. Topic"
   ]
  },
  {
   "cell_type": "markdown",
   "metadata": {},
   "source": [
    "This analysis aims to examine the effectiveness of policy interventions meant to reduce the over-prescription of opioids. To be specific, a pre-post and a difference-in-difference analysis for the policy changes in three states, namely Florida, Texas, and Washington, will be performed to evaluate their impact on opioid prescriptions and overdose deaths. Given that opioid control policies may inhere in a negative aspect that already addicted people turn to illegally purchasing similar types of drugs such as heroin or fentanyl, those regulations have a potential to create more problems related with overdose deaths because drug users cannot gauge the potency of these illegal substances, which makes overdosing much more likely compared to (monitored) prescribed medications."
   ]
  },
  {
   "cell_type": "markdown",
   "metadata": {},
   "source": [
    "## 2. Project Question"
   ]
  },
  {
   "cell_type": "markdown",
   "metadata": {},
   "source": [
    "The project will be implemented to try to answer the following two research questions:\n",
    "\n",
    "(1) What is the effect of opioid drug prescription regulations on the volume of opioids prescribed?\n",
    "\n",
    "(2) What is the effect of opioid drug prescription regulations on drug overdose deaths?"
   ]
  },
  {
   "cell_type": "markdown",
   "metadata": {},
   "source": [
    "## 3. Project Hypothesis"
   ]
  },
  {
   "cell_type": "markdown",
   "metadata": {},
   "source": [
    "The project hypothesis is that per capita opioid prescriptions and overdose deaths decrease more in the areas where regulations were executed compared to jurisdictions where no new policies were placed. As there is a possibility that some counties in states with policy change may already have a downward trend of opioid prescriptions and overdose deaths in the pre-policy change period for many reasons, both pre-post and difference-in-difference analysis will be needed."
   ]
  },
  {
   "cell_type": "markdown",
   "metadata": {},
   "source": [
    "## 4. Model Results"
   ]
  },
  {
   "cell_type": "markdown",
   "metadata": {},
   "source": [
    "### Result if our hypothesis is true"
   ]
  },
  {
   "cell_type": "markdown",
   "metadata": {},
   "source": [
    "### Result if our hypothesis is false"
   ]
  },
  {
   "cell_type": "markdown",
   "metadata": {},
   "source": [
    "## 5. Final Variables Required"
   ]
  },
  {
   "cell_type": "markdown",
   "metadata": {},
   "source": [
    "What data do we need to generate that answer? We need to define both the variable we need and the population for which we need the variables to be defined."
   ]
  },
  {
   "cell_type": "markdown",
   "metadata": {},
   "source": [
    "## 6. Data Sources"
   ]
  },
  {
   "cell_type": "markdown",
   "metadata": {},
   "source": [
    "What actual data sources do we think will have the data we need?"
   ]
  }
 ],
 "metadata": {
  "kernelspec": {
   "display_name": "Python 3.9.12 ('base')",
   "language": "python",
   "name": "python3"
  },
  "language_info": {
   "name": "python",
   "version": "3.9.12"
  },
  "orig_nbformat": 4,
  "vscode": {
   "interpreter": {
    "hash": "a92526385d613339fdfc3220bd081595a0042773833489b7647304f7dd79b12e"
   }
  }
 },
 "nbformat": 4,
 "nbformat_minor": 2
}
