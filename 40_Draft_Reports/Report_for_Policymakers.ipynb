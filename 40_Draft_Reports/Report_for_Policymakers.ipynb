{
 "cells": [
  {
   "cell_type": "markdown",
   "metadata": {},
   "source": [
    "## Report for Policy Makers\n",
    "## Estimate the Impact of Opioid Control Policies\n",
    "Submitted by Grey Team (Nick Carroll, Jiaxin Ying, Emmanuel Ruhamyankaka, Song Young Oh)"
   ]
  },
  {
   "cell_type": "markdown",
   "metadata": {},
   "source": [
    "## Motivation\n",
    "\n",
    "For more than 30 years, the United States has suffered a widespread crisis of opioid addiction and overdose deaths. As a result, there have been significant policy efforts to address the opioid crisis. Led by the White House's Office of National Drug Control Policy [1], federal agencies such as the Drug Enforcement Agency (DEA), the Centers for Disease Control and Prevention (CDC), the Department of Health and Social Services (DHSS), and the National Institutes of Health (NIH) have taken several initiatives to combat it [2].\n",
    "\n",
    "In addition to these efforts at the federal level, there has been enforcement of state-level opioid control policies in various parts of the US. For instance, the Texas Medical Board adopted regulations with regards to treating pain with controlled substances in 2007. The Florida legislature also began to require that pain clinics treating pain with controlled substances register with the state since 2010, and the Washington Department of Health adopted a rule regulating the prescribing of opioids for pain treatment in 2011.\n",
    "\n",
    "Evaluating the impact of these state-level policies on public health outcomes matters in health policy. It is because their geographic and temporal variation in policy adoption can offer an insight into better understanding about the policy effects. In this project, the effects of opioid drug prescription regulations enforced in three states (Texas, Florida, Washington) will be examined by focusing on their effects on 1) the volume of opioids shipment and 2) drug overdose deaths.\n",
    "\n",
    "Furthermore, two approaches will be mainly used in the analysis. The first approach is pre-post comparison which focuses on difference between pre-policy and post-policy outcomes. The other one is a difference-in-difference method which compares the changes in outcomes over time between a state with a policy change and other states without the policy change. For each state with the policy change, total three comparison states have been chosen based on their similarity in terms of both recent population and opioid dispense rate (Texas: Illinois/New York/Virginia, Florida: Pennsylvania/Ohio/Georgia, Washington: Arizona/Maryland/Wisconsin)."
   ]
  },
  {
   "cell_type": "markdown",
   "metadata": {},
   "source": [
    "## Overview of the Data\n",
    "\n",
    "In this analysis, three kinds of datasets will be used to examine the effectiveness of opioid control policies implemented in Texas, Florida, and Washington.\n",
    "\n",
    "1) Opioid Drug Shipment Data: Provided by the Washington Post, this dataset offers county-level information about drug transactions from 2006 to 2014 that are sourced by the Drug Enforcement Administration's database which tracks the path of every single pain pill sold in the United States. The dataset has records mainly about oxycodone and hydrocodone pills, which are known to consist of three-quarters of the total opioid shipments to pharmacies in the country.\n",
    "\n",
    "2) Vital Statistics Mortality Data: This dataset, provided by the US Vital Statistics, contains data on every drug overdose death in the US from 2003 to 2015, and also includes county-level information.\n",
    "\n",
    "3) US Population Data: This dataset has population estimates for each county in the US from 2000 to 2020."
   ]
  },
  {
   "cell_type": "markdown",
   "metadata": {},
   "source": [
    "## Analysis"
   ]
  },
  {
   "cell_type": "markdown",
   "metadata": {},
   "source": [
    "### Pre-post and Difference-in-difference analysis\n",
    "\n",
    "The project hypothesis is that the average annual percent change in per capita opioid quantities sold and overdose deaths is lower in the states where regulations were implemented when compared against the same jurisdiction prior to implementation and against jurisdictions where no new policies were implemented. To analyze this change, both a \"Pre-Post Comparison\" and \"Difference-in-Difference Comparison\" analysis will be utilized. To analyze the validity of the hypothesis, it is expected that the hypothesis is reasonable if the average annual percent change in per capita opioid quantities sold and opioid-drug-overdose deaths should be substantially less after the policies were placed than before the polices were introduced for each jurisdiction. Otherwise, the hypothesis will be rejected if the opioid-drug-overdose deaths per capita or the opioid quantities sold per capita continue to increase or basically keep constant after the regulation policy change.\n",
    "\n",
    "For the three states (Florida, Washington, and Texas) that introduced opioid regulation policies, we choose three states as comparison states for them because they have similar population sizes and opioid dispense rates. The control states for Florida are Pennsylvania (PA), Ohio (OH), and Georgia (GA), the control states for Washington are Arizona (AZ), Maryland (MD), and Wisconsin (WI), the control states for Texas are Illinois (IL), New York (NY), and Virginia (VA). These control states did not implement policies to regulate opioid drugs, so we assume that an increase in opioid-drug-overdose deaths per capita or opioid quantities sold per capita is due to the state did not introduce policies to regulate opioid drugs.\n"
   ]
  },
  {
   "cell_type": "markdown",
   "metadata": {},
   "source": [
    "## Interpretation of the Analysis"
   ]
  },
  {
   "cell_type": "markdown",
   "metadata": {},
   "source": [
    "### Effect of regulations policy on the mortality rate of opioid-drug overdose\n",
    "### Florida \n"
   ]
  },
  {
   "cell_type": "markdown",
   "metadata": {},
   "source": [
    "## Pros and Cons of Analysis"
   ]
  },
  {
   "cell_type": "markdown",
   "metadata": {},
   "source": [
    "### Limitations\n",
    "First, in order to protect personal privacy, if the number of people in a given category (i.e. one county/year/cause of death category) is less than 10, the US Vital Statistics agency will not record such data. Hence, the true values of total deaths of opioid-drug overdose will be higher than the data we used in this case, so the real average mortality rates of opioid-drug overdose per capita will also be higher than the mortality rates we calculated. Second, since the U.S. census is conducted every ten years, the population data for all years except for 2010, which is determined, are estimated rather than statistical.  In addition, there are numerous ways that the population from census inquiry goes wrong, including non-response, measurement, inaccurate statistical unit definitions, and even the investigators' own prejudice [4]. Therefore, the true population may be different from the data we used here, but we can't get the most realistic data, so these analyses may not fully reflect the real situation. Third, our control states were selected based on similar population sizes and opioid dispense rates, but we did not take into account other similar factors such as income and education levels, so our analysis may be somewhat one-sided. Last but not least, most states have generally enacted multiple opioid control policies as the opioid crisis has evolved for decades. For example, many states implemented some combination of naloxone laws, Good Samaritan laws, and medical marijuana laws during 2015-2017. In addition to pre-existing prescription drug monitoring program (PDMP) laws, by 2017 the majority of states had implemented at least 3 of these 4 categories of policies [3]. Therefore, it will be unreasonable to put too much emphasis on specific timepoints, namely the year of 2007 (Texas), 2010 (Florida), 2011 (Washington). For the same reason, it is almost impossible to identify perfect comparison states which were not impacted by the policy of interest at all. These factors serve to complicate accurate evaluation of opioid policy effectiveness."
   ]
  },
  {
   "cell_type": "markdown",
   "metadata": {},
   "source": [
    "### Strengths\n",
    "The two main strengths of this analysis are that when evaluating the impacts of the regulation policy of opioid drugs in three states (FL, TX, WA), we use the pre-post comparison and the difference in difference analysis. First, to determine whether the regulation policies of opioid drugs had a positive impact on drug overdose deaths or opioid shipments, the pre-post comparison is about focusing on examining changes over time for each policy-implemented state. If the policies had no effect, after introducing the policies, the plots would depict an ongoing rise or relatively constant tendencies in opioid shipments and overdose deaths. If the policy had a positive influence, after implementing the policies, the plots would indicate a gradual decline trend in opioid shipments and drug overdose deaths. Second, a difference-in-difference analysis is used for exploring whether there were greater variations in opioid shipments or drug overdose deaths between pre- and post-policy periods in each state that had adopted the regulation policy of opioids than in other states that had not. Specifically, we compare the policy-implemented states with states which did not have related policies by choosing three control states based on similar population sizes and opioid dispense rates for each treatment state. Finally, we evaluate the impacts of regulatory policy by recalling a pre-post analysis so that comparing the tendencies of average mortality rates with related control states.\n"
   ]
  },
  {
   "cell_type": "markdown",
   "metadata": {},
   "source": [
    "## Conclusion"
   ]
  },
  {
   "cell_type": "markdown",
   "metadata": {},
   "source": [
    "## References\n",
    "[1] \"National drug control budget (2021).\" [Online]. Available: https://www.whitehouse.gov/wp-content/uploads/2021/05/National-Drug-Control-Budget-FY-2022-Funding-Highlights.pdf\n",
    "\n",
    "[2] C.D.Soelberg, R.E.Brown, D.Du Vivier, J.E.Meyer, and B.K.Ramachandran, \"The us opioid crisis - current federal and state legal issues,\" Anesthesia and Analgesia, vol.125, no.5, p.1675-1681, 2017.\n",
    "\n",
    "[3] Griffin, B.A., Schuler, M.S., Pane, J. et al. Methodological considerations for estimating policy effects in the context of co-occurring policies. Health Serv Outcomes Res Method (2022).\n",
    "[4] \"Demerits of a Census Investigation (2022).\" [Online]. Available: https://www.toppr.com/guides/business-economics-cs/descriptive-statistics/census/#Demerits_of_a_Census_Investigation"
   ]
  }
 ],
 "metadata": {
  "kernelspec": {
   "display_name": "Python 3.10.6 ('base')",
   "language": "python",
   "name": "python3"
  },
  "language_info": {
   "name": "python",
   "version": "3.10.6"
  },
  "orig_nbformat": 4,
  "vscode": {
   "interpreter": {
    "hash": "4012862ae1459015b91b5c04fe94a0fc831390dcbfae8731fb0ca6ba6ca69945"
   }
  }
 },
 "nbformat": 4,
 "nbformat_minor": 2
}
