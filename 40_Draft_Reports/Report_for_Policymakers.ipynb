{
 "cells": [
  {
   "cell_type": "markdown",
   "metadata": {},
   "source": [
    "### Report for Policy Makers\n",
    "# Estimate the Impact of Opioid Control Policies\n",
    "Submitted by Grey Team (Nick Carroll, Jiaxin Ying, Emmanuel Ruhamyankaka, Song Young Oh)"
   ]
  },
  {
   "cell_type": "markdown",
   "metadata": {},
   "source": [
    "## Motivation\n",
    "\n",
    "For more than 30 years, the United States has suffered a widespread crisis of opioid addiction and overdose deaths. As a result, there have been significant policy efforts to address the opioid crisis. Led by the White House's Office of National Drug Control Policy [1], federal agencies such as the Drug Enforcement Agency (DEA), the Centers for Disease Control and Prevention (CDC), the Department of Health and Social Services (DHSS), and the National Institutes of Health (NIH) have taken several initiatives to combat it [2].\n",
    "\n",
    "In addition to these efforts at the federal level, there has been enforcement of state-level opioid control policies in various parts of the US. For instance, the Texas Medical Board adopted regulations with regards to treating pain with controlled substances in 2007. The Florida legislature also began to require that pain clinics treating pain with controlled substances register with the state since 2010, and the Washington Department of Health adopted a rule regulating the prescribing of opioids for pain treatment in 2011.\n",
    "\n",
    "Evaluating the impact of these state-level policies on public health outcomes matters in health policy. It is because their geographic and temporal variation in policy adoption can offer an insight into better understanding about the policy effects. In this project, the effects of opioid drug prescription regulations enforced in three states (Texas, Florida, Washington) will be examined by focusing on their effects on 1) the volume of opioids shipment and 2) drug overdose deaths.\n",
    "\n",
    "Furthermore, two approaches will be mainly used in the analysis. The first approach is pre-post comparison which focuses on difference between pre-policy and post-policy outcomes. The other one is a difference-in-difference method which compares the changes in outcomes over time between a state with a policy change and other states without the policy change. For each state with the policy change, total three comparison states have been chosen based on their similarity in terms of both recent population and opioid dispense rate (Texas: Illinois/New York/Virginia, Florida: Pennsylvania/Ohio/Georgia, Washington: Arizona/Maryland/Wisconsin)."
   ]
  },
  {
   "cell_type": "markdown",
   "metadata": {},
   "source": [
    "## Overview of the Data\n",
    "\n",
    "In this analysis, three kinds of datasets will be used to examine the effectiveness of opioid control policies implemented in Texas, Florida, and Washington.\n",
    "\n",
    "1) Opioid Drug Shipment Data: Provided by the Washington Post, this dataset offers county-level information about drug transactions from 2006 to 2014 that are sourced by the Drug Enforcement Administration's database which tracks the path of every single pain pill sold in the United States. The dataset has records mainly about oxycodone and hydrocodone pills, which are known to consist of three-quarters of the total opioid shipments to pharmacies in the country.\n",
    "\n",
    "2) Vital Statistics Mortality Data: This dataset, provided by the US Vital Statistics, contains data on every drug overdose death in the US from 2003 to 2015, and also includes county-level information.\n",
    "\n",
    "3) US Population Data: This dataset has population estimates for each county in the US from 2000 to 2020."
   ]
  },
  {
   "cell_type": "markdown",
   "metadata": {},
   "source": [
    "## Analysis"
   ]
  },
  {
   "cell_type": "markdown",
   "metadata": {},
   "source": [
    "## Interpretation of the Analysis"
   ]
  },
  {
   "cell_type": "markdown",
   "metadata": {},
   "source": [
    "## Limitations\n",
    "Most states have generally enacted multiple opioid control policies as the opioid crisis has evolved for decades. For example, many states implemented some combination of naloxone laws, Good Samaritan laws, and medical marijuana laws during 2015-2017. In addition to pre-existing prescription drug monitoring program (PDMP) laws, by 2017 the majority of states had implemented at least 3 of these 4 categories of policies [3]. Therefore, it will be unreasonable to put too much emphasis on specific timepoints, namely the year of 2007 (Texas), 2010 (Florida), 2011 (Washington). For the same reason, it is almost impossible to identify perfect comparison states which were not impacted by the policy of interest at all. These factors serve to complicate accurate evaluation of opioid policy effectiveness."
   ]
  },
  {
   "cell_type": "markdown",
   "metadata": {},
   "source": [
    "## Conclusion"
   ]
  },
  {
   "cell_type": "markdown",
   "metadata": {},
   "source": [
    "## References\n",
    "[1] \"National drug control budget (2021).\" [Online]. Available: https://www.whitehouse.gov/wp-content/uploads/2021/05/National-Drug-Control-Budget-FY-2022-Funding-Highlights.pdf\n",
    "\n",
    "[2] C.D.Soelberg, R.E.Brown, D.Du Vivier, J.E.Meyer, and B.K.Ramachandran, \"The us opioid crisis - current federal and state legal issues,\" Anesthesia and Analgesia, vol.125, no.5, p.1675-1681, 2017.\n",
    "\n",
    "[3] Griffin, B.A., Schuler, M.S., Pane, J. et al. Methodological considerations for estimating policy effects in the context of co-occurring policies. Health Serv Outcomes Res Method (2022)."
   ]
  }
 ],
 "metadata": {
  "kernelspec": {
   "display_name": "Python 3.9.12 ('base')",
   "language": "python",
   "name": "python3"
  },
  "language_info": {
   "name": "python",
   "version": "3.9.12"
  },
  "orig_nbformat": 4,
  "vscode": {
   "interpreter": {
    "hash": "a92526385d613339fdfc3220bd081595a0042773833489b7647304f7dd79b12e"
   }
  }
 },
 "nbformat": 4,
 "nbformat_minor": 2
}
