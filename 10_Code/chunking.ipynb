{
 "cells": [
  {
   "cell_type": "code",
   "execution_count": 2,
   "metadata": {},
   "outputs": [],
   "source": [
    "import pandas as pd\n"
   ]
  },
  {
   "cell_type": "code",
   "execution_count": 3,
   "metadata": {},
   "outputs": [],
   "source": [
    "states = [\"FL\"]\n"
   ]
  },
  {
   "cell_type": "code",
   "execution_count": 4,
   "metadata": {},
   "outputs": [
    {
     "name": "stdout",
     "output_type": "stream",
     "text": [
      "Chunk 1 has 2500000 rows\n",
      "Chunk 2 has 2500000 rows\n",
      "Chunk 3 has 2500000 rows\n",
      "Chunk 4 has 2500000 rows\n",
      "Chunk 5 has 2500000 rows\n",
      "Chunk 6 has 2500000 rows\n",
      "Chunk 7 has 2500000 rows\n",
      "Chunk 8 has 2500000 rows\n",
      "Chunk 9 has 2500000 rows\n",
      "Chunk 10 has 2500000 rows\n",
      "Chunk 11 has 2500000 rows\n",
      "Chunk 12 has 2500000 rows\n",
      "Chunk 13 has 2500000 rows\n",
      "Chunk 14 has 2500000 rows\n",
      "Chunk 15 has 2500000 rows\n",
      "Chunk 16 has 2500000 rows\n",
      "Chunk 17 has 2500000 rows\n",
      "Chunk 18 has 2500000 rows\n",
      "Chunk 19 has 2500000 rows\n",
      "Chunk 20 has 2500000 rows\n",
      "Chunk 21 has 2500000 rows\n",
      "Chunk 22 has 2500000 rows\n",
      "Chunk 23 has 2500000 rows\n",
      "Chunk 24 has 2500000 rows\n",
      "Chunk 25 has 2500000 rows\n",
      "Chunk 26 has 2500000 rows\n",
      "Chunk 27 has 2500000 rows\n",
      "Chunk 28 has 2500000 rows\n",
      "Chunk 29 has 2500000 rows\n",
      "Chunk 30 has 2500000 rows\n",
      "Chunk 31 has 2500000 rows\n",
      "Chunk 32 has 2500000 rows\n",
      "Chunk 33 has 2500000 rows\n",
      "Chunk 34 has 2500000 rows\n",
      "Chunk 35 has 2500000 rows\n",
      "Chunk 36 has 2500000 rows\n",
      "Chunk 37 has 2500000 rows\n",
      "Chunk 38 has 2500000 rows\n",
      "Chunk 39 has 2500000 rows\n",
      "Chunk 40 has 2500000 rows\n",
      "Chunk 41 has 2500000 rows\n",
      "Chunk 42 has 2500000 rows\n",
      "Chunk 43 has 2500000 rows\n",
      "Chunk 44 has 2500000 rows\n",
      "Chunk 45 has 2500000 rows\n",
      "Chunk 46 has 2500000 rows\n",
      "Chunk 47 has 2500000 rows\n",
      "Chunk 48 has 2500000 rows\n",
      "Chunk 49 has 2500000 rows\n",
      "Chunk 50 has 2500000 rows\n",
      "Chunk 51 has 2500000 rows\n",
      "Chunk 52 has 2500000 rows\n",
      "Chunk 53 has 2500000 rows\n",
      "Chunk 54 has 2500000 rows\n",
      "Chunk 55 has 2500000 rows\n",
      "Chunk 56 has 2500000 rows\n",
      "Chunk 57 has 2500000 rows\n",
      "Chunk 58 has 2500000 rows\n",
      "Chunk 59 has 2500000 rows\n",
      "Chunk 60 has 2500000 rows\n",
      "Chunk 61 has 2500000 rows\n",
      "Chunk 62 has 2500000 rows\n",
      "Chunk 63 has 2500000 rows\n",
      "Chunk 64 has 2500000 rows\n",
      "Chunk 65 has 2500000 rows\n",
      "Chunk 66 has 2500000 rows\n",
      "Chunk 67 has 2500000 rows\n",
      "Chunk 68 has 2500000 rows\n",
      "Chunk 69 has 2500000 rows\n",
      "Chunk 70 has 2500000 rows\n",
      "Chunk 71 has 2500000 rows\n",
      "Chunk 72 has 2500000 rows\n",
      "Chunk 73 has 2500000 rows\n",
      "Chunk 74 has 2500000 rows\n",
      "Chunk 75 has 2500000 rows\n",
      "Chunk 76 has 2500000 rows\n",
      "Chunk 77 has 2500000 rows\n",
      "Chunk 78 has 2500000 rows\n",
      "Chunk 79 has 2500000 rows\n",
      "Chunk 80 has 2500000 rows\n",
      "Chunk 81 has 2500000 rows\n",
      "Chunk 82 has 2500000 rows\n",
      "Chunk 83 has 2500000 rows\n",
      "Chunk 84 has 2500000 rows\n",
      "Chunk 85 has 2500000 rows\n",
      "Chunk 86 has 2500000 rows\n",
      "Chunk 87 has 2500000 rows\n",
      "Chunk 88 has 2500000 rows\n",
      "Chunk 89 has 2500000 rows\n",
      "Chunk 90 has 2500000 rows\n",
      "Chunk 91 has 2500000 rows\n",
      "Chunk 92 has 2500000 rows\n",
      "Chunk 93 has 2104439 rows\n"
     ]
    }
   ],
   "source": [
    "df = pd.DataFrame()\n",
    "counter = 0\n",
    "with pd.read_csv(\n",
    "    \"C:\\\\Users\\\\nicho\\\\Downloads\\\\prescription_data.zip\",\n",
    "    # delimiter=\"\\t\",\n",
    "    chunksize=2_500_000,\n",
    "    iterator=True,\n",
    "    low_memory=False,\n",
    "    usecols=[\n",
    "        \"BUYER_STATE\",\n",
    "        \"BUYER_COUNTY\",\n",
    "        \"QUANTITY\",\n",
    "        \"NDC_NO\",\n",
    "        \"DRUG_NAME\",\n",
    "        \"TRANSACTION_DATE\",\n",
    "        \"UNIT\",\n",
    "        \"STRENGTH\",\n",
    "        \"DOSAGE_UNIT\",\n",
    "        \"CALC_BASE_WT_IN_GM\",\n",
    "        \"MME_Conversion_Factor\",\n",
    "        \"Measure\",\n",
    "        \"dos_str\",\n",
    "    ],\n",
    "    parse_dates=[\"TRANSACTION_DATE\"],\n",
    ") as reader:\n",
    "    for chunk in reader:\n",
    "        df = pd.concat(\n",
    "            [df, chunk.loc[chunk.loc[:, \"BUYER_STATE\"].isin(states), :]],\n",
    "            ignore_index=True,\n",
    "        )\n",
    "        counter += 1\n",
    "        print(f\"Chunk {counter} has {len(chunk)} rows\")"
   ]
  },
  {
   "cell_type": "code",
   "execution_count": 34,
   "metadata": {},
   "outputs": [],
   "source": [
    "floatColumns = [\"QUANTITY\", \"CALC_BASE_WT_IN_GM\", \"MME_Conversion_Factor\", \"STRENGTH\", \"DOSAGE_UNIT\", \"dos_str\"]\n",
    "for eachColumn in floatColumns:\n",
    "    df[eachColumn] = df[eachColumn].astype(\"float64\")"
   ]
  },
  {
   "cell_type": "code",
   "execution_count": 37,
   "metadata": {},
   "outputs": [],
   "source": [
    "df['TRANSACTION_DATE'] = pd.to_datetime(df[\"TRANSACTION_DATE\"], format = '%m%d%Y')"
   ]
  },
  {
   "cell_type": "code",
   "execution_count": 40,
   "metadata": {},
   "outputs": [],
   "source": [
    "for eachState in states:\n",
    "    df.loc[df.loc[:, \"BUYER_STATE\"] == eachState, :].to_parquet(\n",
    "        \"C:\\\\Users\\\\nicho\\\\Documents\\\\GitHub\\\\pds-2022-grey-team\\\\20_Intermediate_Files\\\\shipment\"\n",
    "        + eachState\n",
    "        + \".parquet\" , \n",
    "        engine = 'fastparquet'\n",
    "    )"
   ]
  },
  {
   "cell_type": "code",
   "execution_count": 5,
   "metadata": {},
   "outputs": [],
   "source": [
    "# for chunk in pd.read_csv(\"~/Downloads/national_shipment_data.csv\", chunksize=1000000):\n",
    "#     chunk = chunk[chunk[\"BUYER_STATE\"].isin([\"GA\"])][[\"BUYER_DEA_NO\", \"BUYER_STATE\", \"BUYER_COUNTY\", \"DRUG_CODE\", \"DRUG_NAME\", \"QUANTITY\", \"UNIT\", \"TRANSACTION_DATE\", \"DOSAGE_UNIT\"]]\n",
    "#     list.append(chunk)"
   ]
  }
 ],
 "metadata": {
  "kernelspec": {
   "display_name": "Python 3.10.6 ('base')",
   "language": "python",
   "name": "python3"
  },
  "language_info": {
   "codemirror_mode": {
    "name": "ipython",
    "version": 3
   },
   "file_extension": ".py",
   "mimetype": "text/x-python",
   "name": "python",
   "nbconvert_exporter": "python",
   "pygments_lexer": "ipython3",
   "version": "3.10.6"
  },
  "orig_nbformat": 4,
  "vscode": {
   "interpreter": {
    "hash": "72db1ef4dcd6e2344e9289c13171ece59739274764f83c0b8f73f911c07b82ff"
   }
  }
 },
 "nbformat": 4,
 "nbformat_minor": 2
}
