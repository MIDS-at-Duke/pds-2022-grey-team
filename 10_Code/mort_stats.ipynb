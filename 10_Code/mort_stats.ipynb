{
 "cells": [
  {
   "cell_type": "code",
   "execution_count": 210,
   "metadata": {},
   "outputs": [],
   "source": [
    "import pandas as pd\n",
    "import numpy as np"
   ]
  },
  {
   "cell_type": "code",
   "execution_count": 195,
   "metadata": {},
   "outputs": [
    {
     "data": {
      "text/plain": [
       "State\n",
       "AZ    10\n",
       "FL    43\n",
       "GA    42\n",
       "IL    28\n",
       "MD    18\n",
       "NY    38\n",
       "OH    63\n",
       "PA    49\n",
       "TX    56\n",
       "VA    41\n",
       "WA    21\n",
       "WI    21\n",
       "Name: County, dtype: int64"
      ]
     },
     "execution_count": 195,
     "metadata": {},
     "output_type": "execute_result"
    }
   ],
   "source": [
    "# Read in the data\n",
    "df = pd.read_csv('../00_Source/merged_pop_drug_death.csv')\n",
    "\n",
    "# number of counties per state\n",
    "df.groupby('State')['County'].nunique()\n",
    "\n"
   ]
  },
  {
   "cell_type": "code",
   "execution_count": 196,
   "metadata": {},
   "outputs": [
    {
     "data": {
      "text/plain": [
       "362"
      ]
     },
     "execution_count": 196,
     "metadata": {},
     "output_type": "execute_result"
    }
   ],
   "source": [
    "# total number of counties\n",
    "df['County'].nunique()"
   ]
  },
  {
   "cell_type": "code",
   "execution_count": 197,
   "metadata": {},
   "outputs": [
    {
     "data": {
      "text/plain": [
       "count    3320.000000\n",
       "mean       52.694880\n",
       "std        78.909943\n",
       "min        10.000000\n",
       "25%        14.000000\n",
       "50%        22.000000\n",
       "75%        51.000000\n",
       "max       748.000000\n",
       "Name: Deaths, dtype: float64"
      ]
     },
     "execution_count": 197,
     "metadata": {},
     "output_type": "execute_result"
    }
   ],
   "source": [
    "# mean death_rate \n",
    "df['Deaths'].describe()\n",
    "\n"
   ]
  },
  {
   "cell_type": "code",
   "execution_count": 198,
   "metadata": {},
   "outputs": [
    {
     "data": {
      "text/plain": [
       "State  County             \n",
       "TX     Ellis County            10.000000\n",
       "GA     Fannin County           10.000000\n",
       "TX     Aransas County          10.000000\n",
       "PA     Mifflin County          10.000000\n",
       "OH     Hardin County           10.000000\n",
       "                                 ...    \n",
       "FL     Broward County         256.769231\n",
       "TX     Harris County          387.538462\n",
       "PA     Philadelphia County    400.615385\n",
       "IL     Cook County            561.153846\n",
       "AZ     Maricopa County        571.153846\n",
       "Name: Deaths, Length: 430, dtype: float64"
      ]
     },
     "execution_count": 198,
     "metadata": {},
     "output_type": "execute_result"
    }
   ],
   "source": [
    "# mean of deaths per county\n",
    "df.groupby(['State','County'])['Deaths'].mean().sort_values(ascending=True)"
   ]
  },
  {
   "cell_type": "code",
   "execution_count": 199,
   "metadata": {},
   "outputs": [
    {
     "data": {
      "text/plain": [
       "25"
      ]
     },
     "execution_count": 199,
     "metadata": {},
     "output_type": "execute_result"
    }
   ],
   "source": [
    "# number of counties with a mean death rate == 10, the minimum\n",
    "df.groupby(['State','County'])['Deaths'].mean().sort_values(ascending=False).loc[lambda x: x == 10].count()\n"
   ]
  },
  {
   "cell_type": "code",
   "execution_count": 211,
   "metadata": {},
   "outputs": [
    {
     "data": {
      "text/plain": [
       "State  County          \n",
       "VA     Dickenson County    0.000648\n",
       "OH     Fayette County      0.000489\n",
       "VA     Buchanan County     0.000473\n",
       "OH     Pike County         0.000442\n",
       "GA     Haralson County     0.000441\n",
       "VA     Lee County          0.000437\n",
       "TX     Aransas County      0.000427\n",
       "GA     Madison County      0.000423\n",
       "       Fannin County       0.000421\n",
       "VA     Russell County      0.000406\n",
       "Name: death_rate, dtype: float64"
      ]
     },
     "execution_count": 211,
     "metadata": {},
     "output_type": "execute_result"
    }
   ],
   "source": [
    "# counties with highest drug death rates by county and state\n",
    "df.groupby(['State','County'])['death_rate'].mean().sort_values(ascending=False).head(10)"
   ]
  },
  {
   "cell_type": "code",
   "execution_count": 201,
   "metadata": {},
   "outputs": [
    {
     "data": {
      "text/plain": [
       "State  County             \n",
       "AZ     Maricopa County        571.153846\n",
       "IL     Cook County            561.153846\n",
       "PA     Philadelphia County    400.615385\n",
       "TX     Harris County          387.538462\n",
       "FL     Broward County         256.769231\n",
       "WA     King County            248.615385\n",
       "PA     Allegheny County       239.230769\n",
       "FL     Palm Beach County      234.461538\n",
       "TX     Dallas County          232.538462\n",
       "FL     Pinellas County        213.461538\n",
       "Name: Deaths, dtype: float64"
      ]
     },
     "execution_count": 201,
     "metadata": {},
     "output_type": "execute_result"
    }
   ],
   "source": [
    "# counties with highest drug death rates by county and state\n",
    "df.groupby(['State','County'])['Deaths'].mean().sort_values(ascending=False).head(10)"
   ]
  },
  {
   "cell_type": "code",
   "execution_count": 202,
   "metadata": {},
   "outputs": [],
   "source": [
    "# subset for each state and their controls\n",
    "flor_cont = df[df['State'].isin(['FL','PA','OH','GA'])].copy()\n",
    "wash_cont = df[df['State'].isin(['WA','AZ','MD','WI'])].copy()\n",
    "texas_cont = df[df['State'].isin(['TX','IL','NY','VA'])].copy()\n",
    "\n",
    "# make sure the shapes from the 3 groups add up to the total in df\n",
    "assert len(flor_cont) + len(wash_cont) + len(texas_cont) == len(df)\n"
   ]
  },
  {
   "cell_type": "code",
   "execution_count": 203,
   "metadata": {},
   "outputs": [],
   "source": [
    "# indicator for each state depending on whether they had a policy enacted or not\n",
    "flor_cont['case'] = np.where(flor_cont['State'] == 'FL', 'Policy', 'No policy')\n",
    "wash_cont['case'] = np.where(wash_cont['State'] == 'WA', 'Policy', 'No policy')\n",
    "texas_cont['case'] = np.where(texas_cont['State'] == 'TX', 'Policy', 'No policy')\n",
    "\n",
    "# merge the 3 groups into one dataframe\n",
    "merged_test = pd.concat([flor_cont, wash_cont, texas_cont])"
   ]
  },
  {
   "cell_type": "code",
   "execution_count": 204,
   "metadata": {},
   "outputs": [],
   "source": [
    "\n",
    "# another indicator for when policy took effect(pre/post)\n",
    "\n",
    "flor_cont['policy'] = np.where(flor_cont['Year'] >= 2010, 'post', 'pre')\n",
    "wash_cont['policy'] = np.where(wash_cont['Year'] >= 2011, 'post', 'pre')\n",
    "texas_cont['policy'] = np.where(texas_cont['Year'] >= 2007, 'post', 'pre')"
   ]
  },
  {
   "cell_type": "code",
   "execution_count": 205,
   "metadata": {},
   "outputs": [
    {
     "data": {
      "text/html": [
       "<div>\n",
       "<style scoped>\n",
       "    .dataframe tbody tr th:only-of-type {\n",
       "        vertical-align: middle;\n",
       "    }\n",
       "\n",
       "    .dataframe tbody tr th {\n",
       "        vertical-align: top;\n",
       "    }\n",
       "\n",
       "    .dataframe thead th {\n",
       "        text-align: right;\n",
       "    }\n",
       "</style>\n",
       "<table border=\"1\" class=\"dataframe\">\n",
       "  <thead>\n",
       "    <tr style=\"text-align: right;\">\n",
       "      <th></th>\n",
       "      <th>County</th>\n",
       "      <th>Year</th>\n",
       "      <th>State</th>\n",
       "      <th>Deaths</th>\n",
       "      <th>Population</th>\n",
       "      <th>death_rate</th>\n",
       "      <th>case</th>\n",
       "      <th>policy</th>\n",
       "    </tr>\n",
       "  </thead>\n",
       "  <tbody>\n",
       "    <tr>\n",
       "      <th>0</th>\n",
       "      <td>Adams County</td>\n",
       "      <td>2009</td>\n",
       "      <td>PA</td>\n",
       "      <td>12.0</td>\n",
       "      <td>101252.0</td>\n",
       "      <td>0.000119</td>\n",
       "      <td>No policy</td>\n",
       "      <td>pre</td>\n",
       "    </tr>\n",
       "    <tr>\n",
       "      <th>1</th>\n",
       "      <td>Adams County</td>\n",
       "      <td>2010</td>\n",
       "      <td>PA</td>\n",
       "      <td>10.0</td>\n",
       "      <td>101407.0</td>\n",
       "      <td>0.000099</td>\n",
       "      <td>No policy</td>\n",
       "      <td>post</td>\n",
       "    </tr>\n",
       "    <tr>\n",
       "      <th>2</th>\n",
       "      <td>Adams County</td>\n",
       "      <td>2012</td>\n",
       "      <td>OH</td>\n",
       "      <td>10.0</td>\n",
       "      <td>28288.0</td>\n",
       "      <td>0.000354</td>\n",
       "      <td>No policy</td>\n",
       "      <td>post</td>\n",
       "    </tr>\n",
       "    <tr>\n",
       "      <th>3</th>\n",
       "      <td>Adams County</td>\n",
       "      <td>2014</td>\n",
       "      <td>OH</td>\n",
       "      <td>10.0</td>\n",
       "      <td>28060.0</td>\n",
       "      <td>0.000356</td>\n",
       "      <td>No policy</td>\n",
       "      <td>post</td>\n",
       "    </tr>\n",
       "    <tr>\n",
       "      <th>5</th>\n",
       "      <td>Adams County</td>\n",
       "      <td>2015</td>\n",
       "      <td>OH</td>\n",
       "      <td>13.0</td>\n",
       "      <td>27919.0</td>\n",
       "      <td>0.000466</td>\n",
       "      <td>No policy</td>\n",
       "      <td>post</td>\n",
       "    </tr>\n",
       "  </tbody>\n",
       "</table>\n",
       "</div>"
      ],
      "text/plain": [
       "         County  Year State  Deaths  Population  death_rate       case policy\n",
       "0  Adams County  2009    PA    12.0    101252.0    0.000119  No policy    pre\n",
       "1  Adams County  2010    PA    10.0    101407.0    0.000099  No policy   post\n",
       "2  Adams County  2012    OH    10.0     28288.0    0.000354  No policy   post\n",
       "3  Adams County  2014    OH    10.0     28060.0    0.000356  No policy   post\n",
       "5  Adams County  2015    OH    13.0     27919.0    0.000466  No policy   post"
      ]
     },
     "execution_count": 205,
     "metadata": {},
     "output_type": "execute_result"
    }
   ],
   "source": [
    "flor_cont.head()"
   ]
  },
  {
   "cell_type": "code",
   "execution_count": 206,
   "metadata": {},
   "outputs": [
    {
     "data": {
      "text/html": [
       "<div>\n",
       "<style scoped>\n",
       "    .dataframe tbody tr th:only-of-type {\n",
       "        vertical-align: middle;\n",
       "    }\n",
       "\n",
       "    .dataframe tbody tr th {\n",
       "        vertical-align: top;\n",
       "    }\n",
       "\n",
       "    .dataframe thead th {\n",
       "        text-align: right;\n",
       "    }\n",
       "</style>\n",
       "<table border=\"1\" class=\"dataframe\">\n",
       "  <thead>\n",
       "    <tr style=\"text-align: right;\">\n",
       "      <th></th>\n",
       "      <th></th>\n",
       "      <th>count</th>\n",
       "      <th>mean</th>\n",
       "      <th>std</th>\n",
       "      <th>min</th>\n",
       "      <th>25%</th>\n",
       "      <th>50%</th>\n",
       "      <th>75%</th>\n",
       "      <th>max</th>\n",
       "    </tr>\n",
       "    <tr>\n",
       "      <th>case</th>\n",
       "      <th>policy</th>\n",
       "      <th></th>\n",
       "      <th></th>\n",
       "      <th></th>\n",
       "      <th></th>\n",
       "      <th></th>\n",
       "      <th></th>\n",
       "      <th></th>\n",
       "      <th></th>\n",
       "    </tr>\n",
       "  </thead>\n",
       "  <tbody>\n",
       "    <tr>\n",
       "      <th rowspan=\"2\" valign=\"top\">No policy</th>\n",
       "      <th>post</th>\n",
       "      <td>650.0</td>\n",
       "      <td>0.000186</td>\n",
       "      <td>0.000092</td>\n",
       "      <td>0.000047</td>\n",
       "      <td>0.000117</td>\n",
       "      <td>0.000170</td>\n",
       "      <td>0.000230</td>\n",
       "      <td>0.000572</td>\n",
       "    </tr>\n",
       "    <tr>\n",
       "      <th>pre</th>\n",
       "      <td>502.0</td>\n",
       "      <td>0.000123</td>\n",
       "      <td>0.000062</td>\n",
       "      <td>0.000027</td>\n",
       "      <td>0.000077</td>\n",
       "      <td>0.000109</td>\n",
       "      <td>0.000153</td>\n",
       "      <td>0.000455</td>\n",
       "    </tr>\n",
       "    <tr>\n",
       "      <th rowspan=\"2\" valign=\"top\">Policy</th>\n",
       "      <th>post</th>\n",
       "      <td>217.0</td>\n",
       "      <td>0.000149</td>\n",
       "      <td>0.000064</td>\n",
       "      <td>0.000039</td>\n",
       "      <td>0.000105</td>\n",
       "      <td>0.000141</td>\n",
       "      <td>0.000186</td>\n",
       "      <td>0.000408</td>\n",
       "    </tr>\n",
       "    <tr>\n",
       "      <th>pre</th>\n",
       "      <td>233.0</td>\n",
       "      <td>0.000143</td>\n",
       "      <td>0.000059</td>\n",
       "      <td>0.000039</td>\n",
       "      <td>0.000102</td>\n",
       "      <td>0.000141</td>\n",
       "      <td>0.000176</td>\n",
       "      <td>0.000359</td>\n",
       "    </tr>\n",
       "  </tbody>\n",
       "</table>\n",
       "</div>"
      ],
      "text/plain": [
       "                  count      mean       std       min       25%       50%  \\\n",
       "case      policy                                                            \n",
       "No policy post    650.0  0.000186  0.000092  0.000047  0.000117  0.000170   \n",
       "          pre     502.0  0.000123  0.000062  0.000027  0.000077  0.000109   \n",
       "Policy    post    217.0  0.000149  0.000064  0.000039  0.000105  0.000141   \n",
       "          pre     233.0  0.000143  0.000059  0.000039  0.000102  0.000141   \n",
       "\n",
       "                       75%       max  \n",
       "case      policy                      \n",
       "No policy post    0.000230  0.000572  \n",
       "          pre     0.000153  0.000455  \n",
       "Policy    post    0.000186  0.000408  \n",
       "          pre     0.000176  0.000359  "
      ]
     },
     "execution_count": 206,
     "metadata": {},
     "output_type": "execute_result"
    }
   ],
   "source": [
    "\n",
    "flor_cont.groupby(['case','policy'])['death_rate'].describe()\n"
   ]
  },
  {
   "cell_type": "code",
   "execution_count": 207,
   "metadata": {},
   "outputs": [
    {
     "data": {
      "text/html": [
       "<div>\n",
       "<style scoped>\n",
       "    .dataframe tbody tr th:only-of-type {\n",
       "        vertical-align: middle;\n",
       "    }\n",
       "\n",
       "    .dataframe tbody tr th {\n",
       "        vertical-align: top;\n",
       "    }\n",
       "\n",
       "    .dataframe thead th {\n",
       "        text-align: right;\n",
       "    }\n",
       "</style>\n",
       "<table border=\"1\" class=\"dataframe\">\n",
       "  <thead>\n",
       "    <tr style=\"text-align: right;\">\n",
       "      <th></th>\n",
       "      <th></th>\n",
       "      <th>count</th>\n",
       "      <th>mean</th>\n",
       "      <th>std</th>\n",
       "      <th>min</th>\n",
       "      <th>25%</th>\n",
       "      <th>50%</th>\n",
       "      <th>75%</th>\n",
       "      <th>max</th>\n",
       "    </tr>\n",
       "    <tr>\n",
       "      <th>case</th>\n",
       "      <th>policy</th>\n",
       "      <th></th>\n",
       "      <th></th>\n",
       "      <th></th>\n",
       "      <th></th>\n",
       "      <th></th>\n",
       "      <th></th>\n",
       "      <th></th>\n",
       "      <th></th>\n",
       "    </tr>\n",
       "  </thead>\n",
       "  <tbody>\n",
       "    <tr>\n",
       "      <th rowspan=\"2\" valign=\"top\">No policy</th>\n",
       "      <th>post</th>\n",
       "      <td>185.0</td>\n",
       "      <td>0.000157</td>\n",
       "      <td>0.000075</td>\n",
       "      <td>0.000044</td>\n",
       "      <td>0.000106</td>\n",
       "      <td>0.000141</td>\n",
       "      <td>0.000198</td>\n",
       "      <td>0.000512</td>\n",
       "    </tr>\n",
       "    <tr>\n",
       "      <th>pre</th>\n",
       "      <td>222.0</td>\n",
       "      <td>0.000117</td>\n",
       "      <td>0.000066</td>\n",
       "      <td>0.000019</td>\n",
       "      <td>0.000072</td>\n",
       "      <td>0.000104</td>\n",
       "      <td>0.000149</td>\n",
       "      <td>0.000402</td>\n",
       "    </tr>\n",
       "    <tr>\n",
       "      <th rowspan=\"2\" valign=\"top\">Policy</th>\n",
       "      <th>post</th>\n",
       "      <td>79.0</td>\n",
       "      <td>0.000139</td>\n",
       "      <td>0.000047</td>\n",
       "      <td>0.000057</td>\n",
       "      <td>0.000103</td>\n",
       "      <td>0.000135</td>\n",
       "      <td>0.000165</td>\n",
       "      <td>0.000264</td>\n",
       "    </tr>\n",
       "    <tr>\n",
       "      <th>pre</th>\n",
       "      <td>119.0</td>\n",
       "      <td>0.000132</td>\n",
       "      <td>0.000054</td>\n",
       "      <td>0.000043</td>\n",
       "      <td>0.000090</td>\n",
       "      <td>0.000129</td>\n",
       "      <td>0.000160</td>\n",
       "      <td>0.000307</td>\n",
       "    </tr>\n",
       "  </tbody>\n",
       "</table>\n",
       "</div>"
      ],
      "text/plain": [
       "                  count      mean       std       min       25%       50%  \\\n",
       "case      policy                                                            \n",
       "No policy post    185.0  0.000157  0.000075  0.000044  0.000106  0.000141   \n",
       "          pre     222.0  0.000117  0.000066  0.000019  0.000072  0.000104   \n",
       "Policy    post     79.0  0.000139  0.000047  0.000057  0.000103  0.000135   \n",
       "          pre     119.0  0.000132  0.000054  0.000043  0.000090  0.000129   \n",
       "\n",
       "                       75%       max  \n",
       "case      policy                      \n",
       "No policy post    0.000198  0.000512  \n",
       "          pre     0.000149  0.000402  \n",
       "Policy    post    0.000165  0.000264  \n",
       "          pre     0.000160  0.000307  "
      ]
     },
     "execution_count": 207,
     "metadata": {},
     "output_type": "execute_result"
    }
   ],
   "source": [
    "wash_cont.groupby(['case','policy'])['death_rate'].describe()\n",
    "# seing the same trend for washington"
   ]
  },
  {
   "cell_type": "code",
   "execution_count": 208,
   "metadata": {},
   "outputs": [
    {
     "data": {
      "text/html": [
       "<div>\n",
       "<style scoped>\n",
       "    .dataframe tbody tr th:only-of-type {\n",
       "        vertical-align: middle;\n",
       "    }\n",
       "\n",
       "    .dataframe tbody tr th {\n",
       "        vertical-align: top;\n",
       "    }\n",
       "\n",
       "    .dataframe thead th {\n",
       "        text-align: right;\n",
       "    }\n",
       "</style>\n",
       "<table border=\"1\" class=\"dataframe\">\n",
       "  <thead>\n",
       "    <tr style=\"text-align: right;\">\n",
       "      <th></th>\n",
       "      <th></th>\n",
       "      <th>count</th>\n",
       "      <th>mean</th>\n",
       "      <th>std</th>\n",
       "      <th>min</th>\n",
       "      <th>25%</th>\n",
       "      <th>50%</th>\n",
       "      <th>75%</th>\n",
       "      <th>max</th>\n",
       "    </tr>\n",
       "    <tr>\n",
       "      <th>case</th>\n",
       "      <th>policy</th>\n",
       "      <th></th>\n",
       "      <th></th>\n",
       "      <th></th>\n",
       "      <th></th>\n",
       "      <th></th>\n",
       "      <th></th>\n",
       "      <th></th>\n",
       "      <th></th>\n",
       "    </tr>\n",
       "  </thead>\n",
       "  <tbody>\n",
       "    <tr>\n",
       "      <th rowspan=\"2\" valign=\"top\">No policy</th>\n",
       "      <th>post</th>\n",
       "      <td>543.0</td>\n",
       "      <td>0.000131</td>\n",
       "      <td>0.000087</td>\n",
       "      <td>0.000031</td>\n",
       "      <td>0.000079</td>\n",
       "      <td>0.000108</td>\n",
       "      <td>0.000153</td>\n",
       "      <td>0.000689</td>\n",
       "    </tr>\n",
       "    <tr>\n",
       "      <th>pre</th>\n",
       "      <td>140.0</td>\n",
       "      <td>0.000107</td>\n",
       "      <td>0.000099</td>\n",
       "      <td>0.000008</td>\n",
       "      <td>0.000055</td>\n",
       "      <td>0.000076</td>\n",
       "      <td>0.000113</td>\n",
       "      <td>0.000578</td>\n",
       "    </tr>\n",
       "    <tr>\n",
       "      <th rowspan=\"2\" valign=\"top\">Policy</th>\n",
       "      <th>post</th>\n",
       "      <td>320.0</td>\n",
       "      <td>0.000103</td>\n",
       "      <td>0.000050</td>\n",
       "      <td>0.000018</td>\n",
       "      <td>0.000072</td>\n",
       "      <td>0.000095</td>\n",
       "      <td>0.000122</td>\n",
       "      <td>0.000355</td>\n",
       "    </tr>\n",
       "    <tr>\n",
       "      <th>pre</th>\n",
       "      <td>110.0</td>\n",
       "      <td>0.000100</td>\n",
       "      <td>0.000066</td>\n",
       "      <td>0.000014</td>\n",
       "      <td>0.000060</td>\n",
       "      <td>0.000090</td>\n",
       "      <td>0.000114</td>\n",
       "      <td>0.000427</td>\n",
       "    </tr>\n",
       "  </tbody>\n",
       "</table>\n",
       "</div>"
      ],
      "text/plain": [
       "                  count      mean       std       min       25%       50%  \\\n",
       "case      policy                                                            \n",
       "No policy post    543.0  0.000131  0.000087  0.000031  0.000079  0.000108   \n",
       "          pre     140.0  0.000107  0.000099  0.000008  0.000055  0.000076   \n",
       "Policy    post    320.0  0.000103  0.000050  0.000018  0.000072  0.000095   \n",
       "          pre     110.0  0.000100  0.000066  0.000014  0.000060  0.000090   \n",
       "\n",
       "                       75%       max  \n",
       "case      policy                      \n",
       "No policy post    0.000153  0.000689  \n",
       "          pre     0.000113  0.000578  \n",
       "Policy    post    0.000122  0.000355  \n",
       "          pre     0.000114  0.000427  "
      ]
     },
     "execution_count": 208,
     "metadata": {},
     "output_type": "execute_result"
    }
   ],
   "source": [
    "texas_cont.groupby(['case','policy'])['death_rate'].describe()"
   ]
  },
  {
   "cell_type": "code",
   "execution_count": 209,
   "metadata": {},
   "outputs": [
    {
     "data": {
      "image/png": "[encoded data removed]",
      "text/plain": [
       "<Figure size 640x480 with 1 Axes>"
      ]
     },
     "metadata": {},
     "output_type": "display_data"
    }
   ],
   "source": [
    "# states death trends over time\n",
    "import matplotlib.pyplot as plt\n",
    "import seaborn as sns\n",
    "sns.set_style('whitegrid')\n",
    "sns.set_context('talk')\n",
    "\n",
    "#death rate over time for all states depending on whether they had a policy or not\n",
    "\n",
    "merged_test.groupby(['Year','case'])['death_rate'].mean().unstack().plot()\n",
    "plt.title('Drug death rate over time')\n",
    "plt.ylabel('Mean death rate')\n",
    "plt.xlabel('Year')\n",
    "plt.show()\n",
    "\n"
   ]
  }
 ],
 "metadata": {
  "kernelspec": {
   "display_name": "Python 3.10.8 ('base')",
   "language": "python",
   "name": "python3"
  },
  "language_info": {
   "codemirror_mode": {
    "name": "ipython",
    "version": 3
   },
   "file_extension": ".py",
   "mimetype": "text/x-python",
   "name": "python",
   "nbconvert_exporter": "python",
   "pygments_lexer": "ipython3",
   "version": "3.10.8"
  },
  "orig_nbformat": 4,
  "vscode": {
   "interpreter": {
    "hash": "3d597f4c481aa0f25dceb95d2a0067e73c0966dcbd003d741d821a7208527ecf"
   }
  }
 },
 "nbformat": 4,
 "nbformat_minor": 2
}
