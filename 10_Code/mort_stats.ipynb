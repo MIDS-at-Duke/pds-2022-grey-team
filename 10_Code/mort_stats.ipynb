{
 "cells": [
  {
   "cell_type": "code",
   "execution_count": 8,
   "metadata": {},
   "outputs": [],
   "source": [
    "import pandas as pd\n",
    "import numpy as np"
   ]
  },
  {
   "cell_type": "code",
   "execution_count": 9,
   "metadata": {},
   "outputs": [
    {
     "data": {
      "text/html": [
       "<div>\n",
       "<style scoped>\n",
       "    .dataframe tbody tr th:only-of-type {\n",
       "        vertical-align: middle;\n",
       "    }\n",
       "\n",
       "    .dataframe tbody tr th {\n",
       "        vertical-align: top;\n",
       "    }\n",
       "\n",
       "    .dataframe thead th {\n",
       "        text-align: right;\n",
       "    }\n",
       "</style>\n",
       "<table border=\"1\" class=\"dataframe\">\n",
       "  <thead>\n",
       "    <tr style=\"text-align: right;\">\n",
       "      <th></th>\n",
       "      <th>County</th>\n",
       "      <th>Year</th>\n",
       "      <th>State</th>\n",
       "      <th>Deaths</th>\n",
       "      <th>Population</th>\n",
       "      <th>death_rate</th>\n",
       "    </tr>\n",
       "  </thead>\n",
       "  <tbody>\n",
       "    <tr>\n",
       "      <th>0</th>\n",
       "      <td>Adams County</td>\n",
       "      <td>2009</td>\n",
       "      <td>PA</td>\n",
       "      <td>12.0</td>\n",
       "      <td>101252.0</td>\n",
       "      <td>0.000119</td>\n",
       "    </tr>\n",
       "    <tr>\n",
       "      <th>1</th>\n",
       "      <td>Adams County</td>\n",
       "      <td>2010</td>\n",
       "      <td>PA</td>\n",
       "      <td>10.0</td>\n",
       "      <td>101407.0</td>\n",
       "      <td>0.000099</td>\n",
       "    </tr>\n",
       "    <tr>\n",
       "      <th>2</th>\n",
       "      <td>Adams County</td>\n",
       "      <td>2012</td>\n",
       "      <td>OH</td>\n",
       "      <td>10.0</td>\n",
       "      <td>28288.0</td>\n",
       "      <td>0.000354</td>\n",
       "    </tr>\n",
       "    <tr>\n",
       "      <th>3</th>\n",
       "      <td>Adams County</td>\n",
       "      <td>2014</td>\n",
       "      <td>OH</td>\n",
       "      <td>10.0</td>\n",
       "      <td>28060.0</td>\n",
       "      <td>0.000356</td>\n",
       "    </tr>\n",
       "    <tr>\n",
       "      <th>4</th>\n",
       "      <td>Adams County</td>\n",
       "      <td>2015</td>\n",
       "      <td>IL</td>\n",
       "      <td>14.0</td>\n",
       "      <td>66850.0</td>\n",
       "      <td>0.000209</td>\n",
       "    </tr>\n",
       "  </tbody>\n",
       "</table>\n",
       "</div>"
      ],
      "text/plain": [
       "         County  Year State  Deaths  Population  death_rate\n",
       "0  Adams County  2009    PA    12.0    101252.0    0.000119\n",
       "1  Adams County  2010    PA    10.0    101407.0    0.000099\n",
       "2  Adams County  2012    OH    10.0     28288.0    0.000354\n",
       "3  Adams County  2014    OH    10.0     28060.0    0.000356\n",
       "4  Adams County  2015    IL    14.0     66850.0    0.000209"
      ]
     },
     "execution_count": 9,
     "metadata": {},
     "output_type": "execute_result"
    }
   ],
   "source": [
    "# Read in the data\n",
    "df = pd.read_csv('../00_Source/merged_pop_drug_death.csv')\n",
    "df.head()"
   ]
  },
  {
   "cell_type": "code",
   "execution_count": 10,
   "metadata": {},
   "outputs": [],
   "source": [
    "# subset for each state and their controls\n",
    "flor_cont = df[df['State'].isin(['FL','PA','OH','GA'])].copy()\n",
    "wash_cont = df[df['State'].isin(['WA','AZ','MD','WI'])].copy()\n",
    "texas_cont = df[df['State'].isin(['TX','IL','NY','VA'])].copy()\n",
    "\n",
    "# make sure the shapes from the 3 groups add up to the total in df\n",
    "assert len(flor_cont) + len(wash_cont) + len(texas_cont) == len(df)\n"
   ]
  },
  {
   "cell_type": "code",
   "execution_count": 11,
   "metadata": {},
   "outputs": [
    {
     "data": {
      "text/html": [
       "<div>\n",
       "<style scoped>\n",
       "    .dataframe tbody tr th:only-of-type {\n",
       "        vertical-align: middle;\n",
       "    }\n",
       "\n",
       "    .dataframe tbody tr th {\n",
       "        vertical-align: top;\n",
       "    }\n",
       "\n",
       "    .dataframe thead th {\n",
       "        text-align: right;\n",
       "    }\n",
       "</style>\n",
       "<table border=\"1\" class=\"dataframe\">\n",
       "  <thead>\n",
       "    <tr style=\"text-align: right;\">\n",
       "      <th></th>\n",
       "      <th>County</th>\n",
       "      <th>Year</th>\n",
       "      <th>State</th>\n",
       "      <th>Deaths</th>\n",
       "      <th>Population</th>\n",
       "      <th>death_rate</th>\n",
       "      <th>case</th>\n",
       "    </tr>\n",
       "  </thead>\n",
       "  <tbody>\n",
       "    <tr>\n",
       "      <th>0</th>\n",
       "      <td>Adams County</td>\n",
       "      <td>2009</td>\n",
       "      <td>PA</td>\n",
       "      <td>12.0</td>\n",
       "      <td>101252.0</td>\n",
       "      <td>0.000119</td>\n",
       "      <td>No policy</td>\n",
       "    </tr>\n",
       "    <tr>\n",
       "      <th>1</th>\n",
       "      <td>Adams County</td>\n",
       "      <td>2010</td>\n",
       "      <td>PA</td>\n",
       "      <td>10.0</td>\n",
       "      <td>101407.0</td>\n",
       "      <td>0.000099</td>\n",
       "      <td>No policy</td>\n",
       "    </tr>\n",
       "    <tr>\n",
       "      <th>2</th>\n",
       "      <td>Adams County</td>\n",
       "      <td>2012</td>\n",
       "      <td>OH</td>\n",
       "      <td>10.0</td>\n",
       "      <td>28288.0</td>\n",
       "      <td>0.000354</td>\n",
       "      <td>No policy</td>\n",
       "    </tr>\n",
       "    <tr>\n",
       "      <th>3</th>\n",
       "      <td>Adams County</td>\n",
       "      <td>2014</td>\n",
       "      <td>OH</td>\n",
       "      <td>10.0</td>\n",
       "      <td>28060.0</td>\n",
       "      <td>0.000356</td>\n",
       "      <td>No policy</td>\n",
       "    </tr>\n",
       "    <tr>\n",
       "      <th>5</th>\n",
       "      <td>Adams County</td>\n",
       "      <td>2015</td>\n",
       "      <td>OH</td>\n",
       "      <td>13.0</td>\n",
       "      <td>27919.0</td>\n",
       "      <td>0.000466</td>\n",
       "      <td>No policy</td>\n",
       "    </tr>\n",
       "  </tbody>\n",
       "</table>\n",
       "</div>"
      ],
      "text/plain": [
       "         County  Year State  Deaths  Population  death_rate       case\n",
       "0  Adams County  2009    PA    12.0    101252.0    0.000119  No policy\n",
       "1  Adams County  2010    PA    10.0    101407.0    0.000099  No policy\n",
       "2  Adams County  2012    OH    10.0     28288.0    0.000354  No policy\n",
       "3  Adams County  2014    OH    10.0     28060.0    0.000356  No policy\n",
       "5  Adams County  2015    OH    13.0     27919.0    0.000466  No policy"
      ]
     },
     "execution_count": 11,
     "metadata": {},
     "output_type": "execute_result"
    }
   ],
   "source": [
    "# indicator for each state and their controls, 1 is intervention and 0 are controls\n",
    "flor_cont['case'] = np.where(flor_cont['State'] == 'FL', 'Policy', 'No policy')\n",
    "wash_cont['case'] = np.where(wash_cont['State'] == 'WA', 'Policy', 'No policy')\n",
    "texas_cont['case'] = np.where(texas_cont['State'] == 'TX', 'Policy', 'No policy')\n",
    "flor_cont.head()"
   ]
  },
  {
   "cell_type": "code",
   "execution_count": 12,
   "metadata": {},
   "outputs": [],
   "source": [
    "\n",
    "# another indicator for when policy took effect(pre/post) 1 is post policy and 0 is pre policy\n",
    "flor_cont['policy'] = np.where(flor_cont['Year'] >= 2010, 'post', 'pre')\n",
    "wash_cont['policy'] = np.where(wash_cont['Year'] >= 2011, 'post', 'pre')\n",
    "texas_cont['policy'] = np.where(texas_cont['Year'] >= 2007, 'post', 'pre')"
   ]
  },
  {
   "cell_type": "code",
   "execution_count": 13,
   "metadata": {},
   "outputs": [
    {
     "data": {
      "text/html": [
       "<div>\n",
       "<style scoped>\n",
       "    .dataframe tbody tr th:only-of-type {\n",
       "        vertical-align: middle;\n",
       "    }\n",
       "\n",
       "    .dataframe tbody tr th {\n",
       "        vertical-align: top;\n",
       "    }\n",
       "\n",
       "    .dataframe thead th {\n",
       "        text-align: right;\n",
       "    }\n",
       "</style>\n",
       "<table border=\"1\" class=\"dataframe\">\n",
       "  <thead>\n",
       "    <tr style=\"text-align: right;\">\n",
       "      <th></th>\n",
       "      <th>County</th>\n",
       "      <th>Year</th>\n",
       "      <th>State</th>\n",
       "      <th>Deaths</th>\n",
       "      <th>Population</th>\n",
       "      <th>death_rate</th>\n",
       "      <th>case</th>\n",
       "      <th>policy</th>\n",
       "    </tr>\n",
       "  </thead>\n",
       "  <tbody>\n",
       "    <tr>\n",
       "      <th>0</th>\n",
       "      <td>Adams County</td>\n",
       "      <td>2009</td>\n",
       "      <td>PA</td>\n",
       "      <td>12.0</td>\n",
       "      <td>101252.0</td>\n",
       "      <td>0.000119</td>\n",
       "      <td>No policy</td>\n",
       "      <td>pre</td>\n",
       "    </tr>\n",
       "    <tr>\n",
       "      <th>1</th>\n",
       "      <td>Adams County</td>\n",
       "      <td>2010</td>\n",
       "      <td>PA</td>\n",
       "      <td>10.0</td>\n",
       "      <td>101407.0</td>\n",
       "      <td>0.000099</td>\n",
       "      <td>No policy</td>\n",
       "      <td>post</td>\n",
       "    </tr>\n",
       "    <tr>\n",
       "      <th>2</th>\n",
       "      <td>Adams County</td>\n",
       "      <td>2012</td>\n",
       "      <td>OH</td>\n",
       "      <td>10.0</td>\n",
       "      <td>28288.0</td>\n",
       "      <td>0.000354</td>\n",
       "      <td>No policy</td>\n",
       "      <td>post</td>\n",
       "    </tr>\n",
       "    <tr>\n",
       "      <th>3</th>\n",
       "      <td>Adams County</td>\n",
       "      <td>2014</td>\n",
       "      <td>OH</td>\n",
       "      <td>10.0</td>\n",
       "      <td>28060.0</td>\n",
       "      <td>0.000356</td>\n",
       "      <td>No policy</td>\n",
       "      <td>post</td>\n",
       "    </tr>\n",
       "    <tr>\n",
       "      <th>5</th>\n",
       "      <td>Adams County</td>\n",
       "      <td>2015</td>\n",
       "      <td>OH</td>\n",
       "      <td>13.0</td>\n",
       "      <td>27919.0</td>\n",
       "      <td>0.000466</td>\n",
       "      <td>No policy</td>\n",
       "      <td>post</td>\n",
       "    </tr>\n",
       "  </tbody>\n",
       "</table>\n",
       "</div>"
      ],
      "text/plain": [
       "         County  Year State  Deaths  Population  death_rate       case policy\n",
       "0  Adams County  2009    PA    12.0    101252.0    0.000119  No policy    pre\n",
       "1  Adams County  2010    PA    10.0    101407.0    0.000099  No policy   post\n",
       "2  Adams County  2012    OH    10.0     28288.0    0.000354  No policy   post\n",
       "3  Adams County  2014    OH    10.0     28060.0    0.000356  No policy   post\n",
       "5  Adams County  2015    OH    13.0     27919.0    0.000466  No policy   post"
      ]
     },
     "execution_count": 13,
     "metadata": {},
     "output_type": "execute_result"
    }
   ],
   "source": [
    "flor_cont.head()"
   ]
  },
  {
   "cell_type": "code",
   "execution_count": 17,
   "metadata": {},
   "outputs": [
    {
     "data": {
      "text/plain": [
       "case       policy\n",
       "No policy  post      0.000186\n",
       "           pre       0.000123\n",
       "Policy     post      0.000149\n",
       "           pre       0.000143\n",
       "Name: death_rate, dtype: float64"
      ]
     },
     "execution_count": 17,
     "metadata": {},
     "output_type": "execute_result"
    }
   ],
   "source": [
    "# mean death per 100,000 interventions \n",
    "flor_cont.groupby(['case','policy'])['death_rate'].mean()\n",
    "\n",
    "\"\"\"\n",
    "numbers seem to have changed for florida, not the pattern that i was expecting, need to check the data\"\"\"\n",
    "\n"
   ]
  },
  {
   "cell_type": "code",
   "execution_count": 18,
   "metadata": {},
   "outputs": [
    {
     "data": {
      "text/plain": [
       "case       policy\n",
       "No policy  post      0.000157\n",
       "           pre       0.000117\n",
       "Policy     post      0.000139\n",
       "           pre       0.000132\n",
       "Name: death_rate, dtype: float64"
      ]
     },
     "execution_count": 18,
     "metadata": {},
     "output_type": "execute_result"
    }
   ],
   "source": [
    "wash_cont.groupby(['case','policy'])['death_rate'].mean()\n",
    "# seing the same trend for washington"
   ]
  },
  {
   "cell_type": "code",
   "execution_count": 19,
   "metadata": {},
   "outputs": [
    {
     "data": {
      "text/plain": [
       "case       policy\n",
       "No policy  post      0.000131\n",
       "           pre       0.000107\n",
       "Policy     post      0.000103\n",
       "           pre       0.000100\n",
       "Name: death_rate, dtype: float64"
      ]
     },
     "execution_count": 19,
     "metadata": {},
     "output_type": "execute_result"
    }
   ],
   "source": [
    "texas_cont.groupby(['case','policy'])['death_rate'].mean()"
   ]
  }
 ],
 "metadata": {
  "kernelspec": {
   "display_name": "Python 3.10.8 ('base')",
   "language": "python",
   "name": "python3"
  },
  "language_info": {
   "codemirror_mode": {
    "name": "ipython",
    "version": 3
   },
   "file_extension": ".py",
   "mimetype": "text/x-python",
   "name": "python",
   "nbconvert_exporter": "python",
   "pygments_lexer": "ipython3",
   "version": "3.10.8"
  },
  "orig_nbformat": 4,
  "vscode": {
   "interpreter": {
    "hash": "3d597f4c481aa0f25dceb95d2a0067e73c0966dcbd003d741d821a7208527ecf"
   }
  }
 },
 "nbformat": 4,
 "nbformat_minor": 2
}
