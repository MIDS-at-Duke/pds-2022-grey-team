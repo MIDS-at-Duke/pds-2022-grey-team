{
 "cells": [
  {
   "cell_type": "code",
   "execution_count": 47,
   "metadata": {},
   "outputs": [],
   "source": [
    "import pandas as pd\n",
    "import numpy as np\n"
   ]
  },
  {
   "cell_type": "code",
   "execution_count": 48,
   "metadata": {},
   "outputs": [
    {
     "data": {
      "text/plain": [
       "State\n",
       "AZ    10\n",
       "FL    43\n",
       "GA    42\n",
       "MA    12\n",
       "MI    33\n",
       "MO    26\n",
       "NC    55\n",
       "OH    63\n",
       "PA    49\n",
       "TX    56\n",
       "VA    41\n",
       "WA    21\n",
       "Name: County, dtype: int64"
      ]
     },
     "execution_count": 48,
     "metadata": {},
     "output_type": "execute_result"
    }
   ],
   "source": [
    "# Read in the data\n",
    "df = pd.read_csv(\"../00_Source/merged_pop_drug_death.csv\")\n",
    "\n",
    "# number of counties per state\n",
    "df.groupby(\"State\")[\"County\"].nunique()\n"
   ]
  },
  {
   "cell_type": "code",
   "execution_count": 49,
   "metadata": {},
   "outputs": [
    {
     "data": {
      "text/plain": [
       "385"
      ]
     },
     "execution_count": 49,
     "metadata": {},
     "output_type": "execute_result"
    }
   ],
   "source": [
    "# total number of counties\n",
    "df[\"County\"].nunique()\n"
   ]
  },
  {
   "cell_type": "code",
   "execution_count": 50,
   "metadata": {},
   "outputs": [
    {
     "data": {
      "text/plain": [
       "count    3531.000000\n",
       "mean       47.850184\n",
       "std        70.083434\n",
       "min        10.000000\n",
       "25%        14.000000\n",
       "50%        21.000000\n",
       "75%        48.000000\n",
       "max       706.000000\n",
       "Name: Deaths, dtype: float64"
      ]
     },
     "execution_count": 50,
     "metadata": {},
     "output_type": "execute_result"
    }
   ],
   "source": [
    "# mean death_rate\n",
    "df[\"Deaths\"].describe()\n"
   ]
  },
  {
   "cell_type": "code",
   "execution_count": 51,
   "metadata": {},
   "outputs": [
    {
     "data": {
      "text/plain": [
       "State  County             \n",
       "AZ     Maricopa County        571.153846\n",
       "PA     Philadelphia County    400.615385\n",
       "TX     Harris County          387.538462\n",
       "MI     Wayne County           311.153846\n",
       "FL     Broward County         256.769231\n",
       "                                 ...    \n",
       "NC     Edgecombe County        10.000000\n",
       "GA     Dougherty County        10.000000\n",
       "OH     Hocking County          10.000000\n",
       "MI     Manistee County         10.000000\n",
       "VA     Carroll County          10.000000\n",
       "Name: Deaths, Length: 451, dtype: float64"
      ]
     },
     "execution_count": 51,
     "metadata": {},
     "output_type": "execute_result"
    }
   ],
   "source": [
    "# mean of deaths per county\n",
    "df.groupby([\"State\", \"County\"])[\"Deaths\"].mean().sort_values(ascending=False)\n"
   ]
  },
  {
   "cell_type": "code",
   "execution_count": 52,
   "metadata": {},
   "outputs": [
    {
     "data": {
      "text/plain": [
       "28"
      ]
     },
     "execution_count": 52,
     "metadata": {},
     "output_type": "execute_result"
    }
   ],
   "source": [
    "# number of counties with a mean death rate == 10, the minimum\n",
    "df.groupby([\"State\", \"County\"])[\"Deaths\"].mean().sort_values(ascending=False).loc[\n",
    "    lambda x: x == 10\n",
    "].count()\n"
   ]
  },
  {
   "cell_type": "code",
   "execution_count": 53,
   "metadata": {},
   "outputs": [
    {
     "data": {
      "text/plain": [
       "State  County          \n",
       "VA     Dickenson County    64.817005\n",
       "MO     Pemiscot County     60.122431\n",
       "NC     Cherokee County     51.308053\n",
       "OH     Fayette County      48.896358\n",
       "VA     Buchanan County     47.335277\n",
       "OH     Pike County         44.171170\n",
       "GA     Haralson County     44.131748\n",
       "VA     Lee County          43.706294\n",
       "TX     Aransas County      42.744176\n",
       "GA     Madison County      42.289259\n",
       "Name: Death_Rate_per_100000, dtype: float64"
      ]
     },
     "execution_count": 53,
     "metadata": {},
     "output_type": "execute_result"
    }
   ],
   "source": [
    "# counties with highest drug death rates by county and state\n",
    "df.groupby([\"State\", \"County\"])[\"Death_Rate_per_100000\"].mean().sort_values(\n",
    "    ascending=False\n",
    ").head(10)\n"
   ]
  },
  {
   "cell_type": "code",
   "execution_count": 54,
   "metadata": {},
   "outputs": [
    {
     "data": {
      "text/plain": [
       "State  County             \n",
       "AZ     Maricopa County        571.153846\n",
       "PA     Philadelphia County    400.615385\n",
       "TX     Harris County          387.538462\n",
       "MI     Wayne County           311.153846\n",
       "FL     Broward County         256.769231\n",
       "WA     King County            248.615385\n",
       "PA     Allegheny County       239.230769\n",
       "FL     Palm Beach County      234.461538\n",
       "TX     Dallas County          232.538462\n",
       "FL     Pinellas County        213.461538\n",
       "Name: Deaths, dtype: float64"
      ]
     },
     "execution_count": 54,
     "metadata": {},
     "output_type": "execute_result"
    }
   ],
   "source": [
    "# counties with highest drug death rates by county and state\n",
    "df.groupby([\"State\", \"County\"])[\"Deaths\"].mean().sort_values(ascending=False).head(10)\n"
   ]
  },
  {
   "cell_type": "code",
   "execution_count": 55,
   "metadata": {},
   "outputs": [
    {
     "data": {
      "text/plain": [
       "array(['PA', 'VA', 'TX', 'MA'], dtype=object)"
      ]
     },
     "execution_count": 55,
     "metadata": {},
     "output_type": "execute_result"
    }
   ],
   "source": [
    "# subset for each state and their controls\n",
    "flor_cont = df[df[\"State\"].isin([\"FL\", \"MI\", \"NC\", \"OH\"])].copy()\n",
    "wash_cont = df[df[\"State\"].isin([\"WA\", \"MO\", \"GA\", \"AZ\"])].copy()\n",
    "texas_cont = df[df[\"State\"].isin([\"TX\", \"PA\", \"VA\", \"MA\"])].copy()\n",
    "\n",
    "# make sure the shapes from the 3 groups add up to the total in df\n",
    "assert len(flor_cont) + len(wash_cont) + len(texas_cont) == len(df)\n",
    "\n",
    "\n",
    "flor_cont[\"State\"].unique()\n",
    "wash_cont[\"State\"].unique()\n",
    "texas_cont[\"State\"].unique()\n"
   ]
  },
  {
   "cell_type": "code",
   "execution_count": 56,
   "metadata": {},
   "outputs": [],
   "source": [
    "# indicator for each state depending on whether they had a policy enacted or not\n",
    "flor_cont[\"case\"] = np.where(flor_cont[\"State\"] == \"FL\", \"Policy\", \"No policy\")\n",
    "wash_cont[\"case\"] = np.where(wash_cont[\"State\"] == \"WA\", \"Policy\", \"No policy\")\n",
    "texas_cont[\"case\"] = np.where(texas_cont[\"State\"] == \"TX\", \"Policy\", \"No policy\")\n",
    "\n",
    "# merge the 3 groups into one dataframe\n",
    "merged_test = pd.concat([flor_cont, wash_cont, texas_cont])\n"
   ]
  },
  {
   "cell_type": "code",
   "execution_count": 57,
   "metadata": {},
   "outputs": [],
   "source": [
    "# another indicator for when policy took effect(pre/post)\n",
    "\n",
    "flor_cont[\"policy\"] = np.where(flor_cont[\"Year\"] >= 2010, \"post\", \"pre\")\n",
    "wash_cont[\"policy\"] = np.where(wash_cont[\"Year\"] >= 2011, \"post\", \"pre\")\n",
    "texas_cont[\"policy\"] = np.where(texas_cont[\"Year\"] >= 2007, \"post\", \"pre\")\n"
   ]
  },
  {
   "cell_type": "code",
   "execution_count": 58,
   "metadata": {},
   "outputs": [
    {
     "data": {
      "text/html": [
       "<div>\n",
       "<style scoped>\n",
       "    .dataframe tbody tr th:only-of-type {\n",
       "        vertical-align: middle;\n",
       "    }\n",
       "\n",
       "    .dataframe tbody tr th {\n",
       "        vertical-align: top;\n",
       "    }\n",
       "\n",
       "    .dataframe thead th {\n",
       "        text-align: right;\n",
       "    }\n",
       "</style>\n",
       "<table border=\"1\" class=\"dataframe\">\n",
       "  <thead>\n",
       "    <tr style=\"text-align: right;\">\n",
       "      <th></th>\n",
       "      <th>County</th>\n",
       "      <th>Year</th>\n",
       "      <th>State</th>\n",
       "      <th>Deaths</th>\n",
       "      <th>Population</th>\n",
       "      <th>Death_Rate_per_100000</th>\n",
       "      <th>case</th>\n",
       "      <th>policy</th>\n",
       "    </tr>\n",
       "  </thead>\n",
       "  <tbody>\n",
       "    <tr>\n",
       "      <th>2</th>\n",
       "      <td>Adams County</td>\n",
       "      <td>2012</td>\n",
       "      <td>OH</td>\n",
       "      <td>10.0</td>\n",
       "      <td>28288.0</td>\n",
       "      <td>35.350679</td>\n",
       "      <td>No policy</td>\n",
       "      <td>post</td>\n",
       "    </tr>\n",
       "    <tr>\n",
       "      <th>3</th>\n",
       "      <td>Adams County</td>\n",
       "      <td>2014</td>\n",
       "      <td>OH</td>\n",
       "      <td>10.0</td>\n",
       "      <td>28060.0</td>\n",
       "      <td>35.637919</td>\n",
       "      <td>No policy</td>\n",
       "      <td>post</td>\n",
       "    </tr>\n",
       "    <tr>\n",
       "      <th>4</th>\n",
       "      <td>Adams County</td>\n",
       "      <td>2015</td>\n",
       "      <td>OH</td>\n",
       "      <td>13.0</td>\n",
       "      <td>27919.0</td>\n",
       "      <td>46.563272</td>\n",
       "      <td>No policy</td>\n",
       "      <td>post</td>\n",
       "    </tr>\n",
       "    <tr>\n",
       "      <th>5</th>\n",
       "      <td>Alachua County</td>\n",
       "      <td>2003</td>\n",
       "      <td>FL</td>\n",
       "      <td>11.0</td>\n",
       "      <td>227022.0</td>\n",
       "      <td>4.845345</td>\n",
       "      <td>Policy</td>\n",
       "      <td>pre</td>\n",
       "    </tr>\n",
       "    <tr>\n",
       "      <th>6</th>\n",
       "      <td>Alachua County</td>\n",
       "      <td>2007</td>\n",
       "      <td>FL</td>\n",
       "      <td>17.0</td>\n",
       "      <td>242685.0</td>\n",
       "      <td>7.004965</td>\n",
       "      <td>Policy</td>\n",
       "      <td>pre</td>\n",
       "    </tr>\n",
       "  </tbody>\n",
       "</table>\n",
       "</div>"
      ],
      "text/plain": [
       "           County  Year State  Deaths  Population  Death_Rate_per_100000  \\\n",
       "2    Adams County  2012    OH    10.0     28288.0              35.350679   \n",
       "3    Adams County  2014    OH    10.0     28060.0              35.637919   \n",
       "4    Adams County  2015    OH    13.0     27919.0              46.563272   \n",
       "5  Alachua County  2003    FL    11.0    227022.0               4.845345   \n",
       "6  Alachua County  2007    FL    17.0    242685.0               7.004965   \n",
       "\n",
       "        case policy  \n",
       "2  No policy   post  \n",
       "3  No policy   post  \n",
       "4  No policy   post  \n",
       "5     Policy    pre  \n",
       "6     Policy    pre  "
      ]
     },
     "execution_count": 58,
     "metadata": {},
     "output_type": "execute_result"
    }
   ],
   "source": [
    "flor_cont.head()\n"
   ]
  },
  {
   "cell_type": "code",
   "execution_count": 59,
   "metadata": {},
   "outputs": [
    {
     "data": {
      "text/html": [
       "<div>\n",
       "<style scoped>\n",
       "    .dataframe tbody tr th:only-of-type {\n",
       "        vertical-align: middle;\n",
       "    }\n",
       "\n",
       "    .dataframe tbody tr th {\n",
       "        vertical-align: top;\n",
       "    }\n",
       "\n",
       "    .dataframe thead th {\n",
       "        text-align: right;\n",
       "    }\n",
       "</style>\n",
       "<table border=\"1\" class=\"dataframe\">\n",
       "  <thead>\n",
       "    <tr style=\"text-align: right;\">\n",
       "      <th></th>\n",
       "      <th></th>\n",
       "      <th>count</th>\n",
       "      <th>mean</th>\n",
       "      <th>std</th>\n",
       "      <th>min</th>\n",
       "      <th>25%</th>\n",
       "      <th>50%</th>\n",
       "      <th>75%</th>\n",
       "      <th>max</th>\n",
       "    </tr>\n",
       "    <tr>\n",
       "      <th>case</th>\n",
       "      <th>policy</th>\n",
       "      <th></th>\n",
       "      <th></th>\n",
       "      <th></th>\n",
       "      <th></th>\n",
       "      <th></th>\n",
       "      <th></th>\n",
       "      <th></th>\n",
       "      <th></th>\n",
       "    </tr>\n",
       "  </thead>\n",
       "  <tbody>\n",
       "    <tr>\n",
       "      <th rowspan=\"2\" valign=\"top\">No policy</th>\n",
       "      <th>post</th>\n",
       "      <td>598.0</td>\n",
       "      <td>18.200877</td>\n",
       "      <td>9.179584</td>\n",
       "      <td>3.790736</td>\n",
       "      <td>11.511726</td>\n",
       "      <td>16.543077</td>\n",
       "      <td>22.341163</td>\n",
       "      <td>62.534486</td>\n",
       "    </tr>\n",
       "    <tr>\n",
       "      <th>pre</th>\n",
       "      <td>484.0</td>\n",
       "      <td>12.894487</td>\n",
       "      <td>6.711230</td>\n",
       "      <td>2.654484</td>\n",
       "      <td>7.858181</td>\n",
       "      <td>11.254874</td>\n",
       "      <td>16.331053</td>\n",
       "      <td>43.316296</td>\n",
       "    </tr>\n",
       "    <tr>\n",
       "      <th rowspan=\"2\" valign=\"top\">Policy</th>\n",
       "      <th>post</th>\n",
       "      <td>217.0</td>\n",
       "      <td>14.888571</td>\n",
       "      <td>6.403795</td>\n",
       "      <td>3.900626</td>\n",
       "      <td>10.522993</td>\n",
       "      <td>14.080798</td>\n",
       "      <td>18.560747</td>\n",
       "      <td>40.791465</td>\n",
       "    </tr>\n",
       "    <tr>\n",
       "      <th>pre</th>\n",
       "      <td>233.0</td>\n",
       "      <td>14.336241</td>\n",
       "      <td>5.896722</td>\n",
       "      <td>3.927344</td>\n",
       "      <td>10.163991</td>\n",
       "      <td>14.116938</td>\n",
       "      <td>17.596391</td>\n",
       "      <td>35.883590</td>\n",
       "    </tr>\n",
       "  </tbody>\n",
       "</table>\n",
       "</div>"
      ],
      "text/plain": [
       "                  count       mean       std       min        25%        50%  \\\n",
       "case      policy                                                               \n",
       "No policy post    598.0  18.200877  9.179584  3.790736  11.511726  16.543077   \n",
       "          pre     484.0  12.894487  6.711230  2.654484   7.858181  11.254874   \n",
       "Policy    post    217.0  14.888571  6.403795  3.900626  10.522993  14.080798   \n",
       "          pre     233.0  14.336241  5.896722  3.927344  10.163991  14.116938   \n",
       "\n",
       "                        75%        max  \n",
       "case      policy                        \n",
       "No policy post    22.341163  62.534486  \n",
       "          pre     16.331053  43.316296  \n",
       "Policy    post    18.560747  40.791465  \n",
       "          pre     17.596391  35.883590  "
      ]
     },
     "execution_count": 59,
     "metadata": {},
     "output_type": "execute_result"
    }
   ],
   "source": [
    "flor_cont.groupby([\"case\", \"policy\"])[\"Death_Rate_per_100000\"].describe()\n"
   ]
  },
  {
   "cell_type": "code",
   "execution_count": 60,
   "metadata": {},
   "outputs": [
    {
     "data": {
      "text/html": [
       "<div>\n",
       "<style scoped>\n",
       "    .dataframe tbody tr th:only-of-type {\n",
       "        vertical-align: middle;\n",
       "    }\n",
       "\n",
       "    .dataframe tbody tr th {\n",
       "        vertical-align: top;\n",
       "    }\n",
       "\n",
       "    .dataframe thead th {\n",
       "        text-align: right;\n",
       "    }\n",
       "</style>\n",
       "<table border=\"1\" class=\"dataframe\">\n",
       "  <thead>\n",
       "    <tr style=\"text-align: right;\">\n",
       "      <th></th>\n",
       "      <th></th>\n",
       "      <th>count</th>\n",
       "      <th>mean</th>\n",
       "      <th>std</th>\n",
       "      <th>min</th>\n",
       "      <th>25%</th>\n",
       "      <th>50%</th>\n",
       "      <th>75%</th>\n",
       "      <th>max</th>\n",
       "    </tr>\n",
       "    <tr>\n",
       "      <th>case</th>\n",
       "      <th>policy</th>\n",
       "      <th></th>\n",
       "      <th></th>\n",
       "      <th></th>\n",
       "      <th></th>\n",
       "      <th></th>\n",
       "      <th></th>\n",
       "      <th></th>\n",
       "      <th></th>\n",
       "    </tr>\n",
       "  </thead>\n",
       "  <tbody>\n",
       "    <tr>\n",
       "      <th rowspan=\"2\" valign=\"top\">No policy</th>\n",
       "      <th>post</th>\n",
       "      <td>265.0</td>\n",
       "      <td>15.793801</td>\n",
       "      <td>7.690612</td>\n",
       "      <td>4.735205</td>\n",
       "      <td>10.394038</td>\n",
       "      <td>13.813722</td>\n",
       "      <td>19.580328</td>\n",
       "      <td>42.552545</td>\n",
       "    </tr>\n",
       "    <tr>\n",
       "      <th>pre</th>\n",
       "      <td>314.0</td>\n",
       "      <td>13.049157</td>\n",
       "      <td>7.648301</td>\n",
       "      <td>3.054688</td>\n",
       "      <td>7.724711</td>\n",
       "      <td>11.261133</td>\n",
       "      <td>15.635356</td>\n",
       "      <td>60.122431</td>\n",
       "    </tr>\n",
       "    <tr>\n",
       "      <th rowspan=\"2\" valign=\"top\">Policy</th>\n",
       "      <th>post</th>\n",
       "      <td>79.0</td>\n",
       "      <td>13.877070</td>\n",
       "      <td>4.711960</td>\n",
       "      <td>5.681933</td>\n",
       "      <td>10.254377</td>\n",
       "      <td>13.476780</td>\n",
       "      <td>16.518335</td>\n",
       "      <td>26.389608</td>\n",
       "    </tr>\n",
       "    <tr>\n",
       "      <th>pre</th>\n",
       "      <td>119.0</td>\n",
       "      <td>13.206149</td>\n",
       "      <td>5.351372</td>\n",
       "      <td>4.250400</td>\n",
       "      <td>8.987646</td>\n",
       "      <td>12.949708</td>\n",
       "      <td>16.041144</td>\n",
       "      <td>30.684983</td>\n",
       "    </tr>\n",
       "  </tbody>\n",
       "</table>\n",
       "</div>"
      ],
      "text/plain": [
       "                  count       mean       std       min        25%        50%  \\\n",
       "case      policy                                                               \n",
       "No policy post    265.0  15.793801  7.690612  4.735205  10.394038  13.813722   \n",
       "          pre     314.0  13.049157  7.648301  3.054688   7.724711  11.261133   \n",
       "Policy    post     79.0  13.877070  4.711960  5.681933  10.254377  13.476780   \n",
       "          pre     119.0  13.206149  5.351372  4.250400   8.987646  12.949708   \n",
       "\n",
       "                        75%        max  \n",
       "case      policy                        \n",
       "No policy post    19.580328  42.552545  \n",
       "          pre     15.635356  60.122431  \n",
       "Policy    post    16.518335  26.389608  \n",
       "          pre     16.041144  30.684983  "
      ]
     },
     "execution_count": 60,
     "metadata": {},
     "output_type": "execute_result"
    }
   ],
   "source": [
    "wash_cont.groupby([\"case\", \"policy\"])[\"Death_Rate_per_100000\"].describe()\n",
    "# seing the same trend for washington\n"
   ]
  },
  {
   "cell_type": "code",
   "execution_count": 61,
   "metadata": {},
   "outputs": [
    {
     "data": {
      "text/html": [
       "<div>\n",
       "<style scoped>\n",
       "    .dataframe tbody tr th:only-of-type {\n",
       "        vertical-align: middle;\n",
       "    }\n",
       "\n",
       "    .dataframe tbody tr th {\n",
       "        vertical-align: top;\n",
       "    }\n",
       "\n",
       "    .dataframe thead th {\n",
       "        text-align: right;\n",
       "    }\n",
       "</style>\n",
       "<table border=\"1\" class=\"dataframe\">\n",
       "  <thead>\n",
       "    <tr style=\"text-align: right;\">\n",
       "      <th></th>\n",
       "      <th></th>\n",
       "      <th>count</th>\n",
       "      <th>mean</th>\n",
       "      <th>std</th>\n",
       "      <th>min</th>\n",
       "      <th>25%</th>\n",
       "      <th>50%</th>\n",
       "      <th>75%</th>\n",
       "      <th>max</th>\n",
       "    </tr>\n",
       "    <tr>\n",
       "      <th>case</th>\n",
       "      <th>policy</th>\n",
       "      <th></th>\n",
       "      <th></th>\n",
       "      <th></th>\n",
       "      <th></th>\n",
       "      <th></th>\n",
       "      <th></th>\n",
       "      <th></th>\n",
       "      <th></th>\n",
       "    </tr>\n",
       "  </thead>\n",
       "  <tbody>\n",
       "    <tr>\n",
       "      <th rowspan=\"2\" valign=\"top\">No policy</th>\n",
       "      <th>post</th>\n",
       "      <td>582.0</td>\n",
       "      <td>16.392112</td>\n",
       "      <td>9.075810</td>\n",
       "      <td>3.143125</td>\n",
       "      <td>9.975630</td>\n",
       "      <td>14.187146</td>\n",
       "      <td>20.688578</td>\n",
       "      <td>68.874836</td>\n",
       "    </tr>\n",
       "    <tr>\n",
       "      <th>pre</th>\n",
       "      <td>210.0</td>\n",
       "      <td>12.542519</td>\n",
       "      <td>8.412229</td>\n",
       "      <td>1.681607</td>\n",
       "      <td>7.046111</td>\n",
       "      <td>10.757198</td>\n",
       "      <td>14.516060</td>\n",
       "      <td>57.788158</td>\n",
       "    </tr>\n",
       "    <tr>\n",
       "      <th rowspan=\"2\" valign=\"top\">Policy</th>\n",
       "      <th>post</th>\n",
       "      <td>320.0</td>\n",
       "      <td>10.343030</td>\n",
       "      <td>4.996150</td>\n",
       "      <td>1.806990</td>\n",
       "      <td>7.211501</td>\n",
       "      <td>9.499604</td>\n",
       "      <td>12.243077</td>\n",
       "      <td>35.545314</td>\n",
       "    </tr>\n",
       "    <tr>\n",
       "      <th>pre</th>\n",
       "      <td>110.0</td>\n",
       "      <td>10.006908</td>\n",
       "      <td>6.624014</td>\n",
       "      <td>1.438121</td>\n",
       "      <td>5.952917</td>\n",
       "      <td>8.970678</td>\n",
       "      <td>11.444739</td>\n",
       "      <td>42.744176</td>\n",
       "    </tr>\n",
       "  </tbody>\n",
       "</table>\n",
       "</div>"
      ],
      "text/plain": [
       "                  count       mean       std       min       25%        50%  \\\n",
       "case      policy                                                              \n",
       "No policy post    582.0  16.392112  9.075810  3.143125  9.975630  14.187146   \n",
       "          pre     210.0  12.542519  8.412229  1.681607  7.046111  10.757198   \n",
       "Policy    post    320.0  10.343030  4.996150  1.806990  7.211501   9.499604   \n",
       "          pre     110.0  10.006908  6.624014  1.438121  5.952917   8.970678   \n",
       "\n",
       "                        75%        max  \n",
       "case      policy                        \n",
       "No policy post    20.688578  68.874836  \n",
       "          pre     14.516060  57.788158  \n",
       "Policy    post    12.243077  35.545314  \n",
       "          pre     11.444739  42.744176  "
      ]
     },
     "execution_count": 61,
     "metadata": {},
     "output_type": "execute_result"
    }
   ],
   "source": [
    "texas_cont.groupby([\"case\", \"policy\"])[\"Death_Rate_per_100000\"].describe()\n"
   ]
  },
  {
   "cell_type": "code",
   "execution_count": 62,
   "metadata": {},
   "outputs": [
    {
     "data": {
      "image/png": "[encoded data removed]",
      "text/plain": [
       "<Figure size 640x480 with 1 Axes>"
      ]
     },
     "metadata": {},
     "output_type": "display_data"
    }
   ],
   "source": [
    "# states death trends over time\n",
    "import matplotlib.pyplot as plt\n",
    "import seaborn as sns\n",
    "\n",
    "sns.set_style(\"whitegrid\")\n",
    "sns.set_context(\"talk\")\n",
    "\n",
    "# death rate over time for all states depending on whether they had a policy or not\n",
    "\n",
    "merged_test.groupby([\"Year\", \"case\"])[\"Death_Rate_per_100000\"].mean().unstack().plot()\n",
    "plt.title(\"Mortality Rate Per 100,000 Persons Over Time\")\n",
    "plt.ylabel(\"Mean death rate\")\n",
    "plt.xlabel(\"Year\")\n",
    "plt.show()\n"
   ]
  }
 ],
 "metadata": {
  "kernelspec": {
   "display_name": "Python 3.10.8 ('base')",
   "language": "python",
   "name": "python3"
  },
  "language_info": {
   "codemirror_mode": {
    "name": "ipython",
    "version": 3
   },
   "file_extension": ".py",
   "mimetype": "text/x-python",
   "name": "python",
   "nbconvert_exporter": "python",
   "pygments_lexer": "ipython3",
   "version": "3.10.8"
  },
  "orig_nbformat": 4,
  "vscode": {
   "interpreter": {
    "hash": "3d597f4c481aa0f25dceb95d2a0067e73c0966dcbd003d741d821a7208527ecf"
   }
  }
 },
 "nbformat": 4,
 "nbformat_minor": 2
}
