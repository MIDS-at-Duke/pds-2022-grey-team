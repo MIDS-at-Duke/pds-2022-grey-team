{
 "cells": [
  {
   "cell_type": "code",
   "execution_count": 22,
   "metadata": {},
   "outputs": [
    {
     "name": "stderr",
     "output_type": "stream",
     "text": [
      "/var/folders/kh/sr5nlrr10qn_drhwxwt8rqy80000gp/T/ipykernel_47810/1747907677.py:3: DtypeWarning: Columns (6) have mixed types. Specify dtype option on import or set low_memory=False.\n",
      "  df = pd.read_csv('shipment_WI.csv')\n"
     ]
    }
   ],
   "source": [
    "import pandas as pd\n",
    "\n",
    "df = pd.read_csv('shipment_WI.csv')\n",
    "df[[\"BUYER_DEA_NO\", \"BUYER_STATE\", \"BUYER_COUNTY\", \"DRUG_CODE\", \"DRUG_NAME\", \"QUANTITY\", \"TRANSACTION_DATE\", \"DOSAGE_UNIT\"]].to_parquet('shipment_WI.parquet', engine='fastparquet')"
   ]
  }
 ],
 "metadata": {
  "kernelspec": {
   "display_name": "Python 3.9.12 ('base')",
   "language": "python",
   "name": "python3"
  },
  "language_info": {
   "codemirror_mode": {
    "name": "ipython",
    "version": 3
   },
   "file_extension": ".py",
   "mimetype": "text/x-python",
   "name": "python",
   "nbconvert_exporter": "python",
   "pygments_lexer": "ipython3",
   "version": "3.9.12"
  },
  "orig_nbformat": 4,
  "vscode": {
   "interpreter": {
    "hash": "a92526385d613339fdfc3220bd081595a0042773833489b7647304f7dd79b12e"
   }
  }
 },
 "nbformat": 4,
 "nbformat_minor": 2
}
