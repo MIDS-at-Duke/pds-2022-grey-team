{
 "cells": [
  {
   "cell_type": "markdown",
   "metadata": {},
   "source": [
    "### What variables will I need in this data? "
   ]
  },
  {
   "cell_type": "markdown",
   "metadata": {},
   "source": [
    "#### For population data, we need to use: \n",
    "#### •\tSTNAME (state)\n",
    "#### •\tCTYNAME (county)\n",
    "#### •\tPOPESTIMATE2003, POPESTIMATE2004, POPESTIMATE2005, POPESTIMATE2006, POPESTIMATE2007, POPESTIMATE2008, POPESTIMATE2009, CENSUS2010POP, POPESTIMATE2011, POPESTIMATE2012, POPESTIMATE2013, POPESTIMATE2014, POPESTIMATE2015 (population)\n",
    "\n",
    "#### For the Washington Post Opioid data, we need to use:\n",
    "#### •\tBUYER_STATE\n",
    "#### •\tBUYER_COUNTY\n",
    "#### •\tTRANSACTION_DATE\n",
    "#### •\tCALC_BASE_WT_IN_GM (DEA added field indicating the total active weight of the drug in the transaction, in grams.) \n",
    "\n",
    "#### For the US Vital Statistics data, we need to use:\n",
    "#### •\tCounty\n",
    "#### •\tYear\n",
    "#### •\tDrug Induced Cause Code (specifically figuring our which code is for opioids)\n",
    "#### •\tDeaths\n"
   ]
  },
  {
   "cell_type": "markdown",
   "metadata": {},
   "source": [
    "### What sample (what years, what counties, etc.) needs to be covered in this data? "
   ]
  },
  {
   "cell_type": "markdown",
   "metadata": {},
   "source": [
    "#### • Population estimated from 2003 to 2015\n",
    "#### • Years from 2003 to 2015\n",
    "#### • All counties from 49 states (no AK) and Washington D.C.in the United States\n",
    "#### • Total active weight of the drug in the transaction from 2003 to 2015\n"
   ]
  },
  {
   "cell_type": "markdown",
   "metadata": {},
   "source": [
    "### What should a single row of this data look like (i.e. what’s a unit of observation?) "
   ]
  },
  {
   "cell_type": "markdown",
   "metadata": {},
   "source": [
    "#### • Year \n",
    "#### • state \n",
    "#### • county\n",
    "#### • county total population\n",
    "#### • state total population \n",
    "#### • drug weight county\n",
    "#### • drug weight state\n",
    "#### • overdoes death county\n",
    "#### • overdoes death state\n"
   ]
  }
 ],
 "metadata": {
  "language_info": {
   "name": "python"
  },
  "orig_nbformat": 4
 },
 "nbformat": 4,
 "nbformat_minor": 2
}
